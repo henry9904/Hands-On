{
 "cells": [
  {
   "cell_type": "markdown",
   "metadata": {},
   "source": [
    "**Chapter 10-3 – Introduction to Artificial Neural Networks with Keras**\n",
    "\n",
    "Homework notebook\n",
    "\n",
    "### 학번: 20201581\n",
    "\n",
    "### 이름: 김형성"
   ]
  },
  {
   "cell_type": "markdown",
   "metadata": {},
   "source": [
    "<table align=\"left\">\n",
    "  <td>\n",
    "    <a target=\"_blank\" href=\"https://colab.research.google.com/github/ageron/handson-ml2/blob/master/10_neural_nets_with_keras.ipynb\"><img src=\"https://www.tensorflow.org/images/colab_logo_32px.png\" />Run in Google Colab</a>\n",
    "  </td>\n",
    "</table>"
   ]
  },
  {
   "cell_type": "markdown",
   "metadata": {},
   "source": [
    "# Setup"
   ]
  },
  {
   "cell_type": "markdown",
   "metadata": {},
   "source": [
    "First, let's import a few common modules, ensure MatplotLib plots figures inline and prepare a function to save the figures. We also check that Python 3.5 or later is installed (although Python 2.x may work, it is deprecated so we strongly recommend you use Python 3 instead), as well as Scikit-Learn ≥0.20 and TensorFlow ≥2.0."
   ]
  },
  {
   "cell_type": "code",
   "execution_count": 1,
   "metadata": {},
   "outputs": [
    {
     "name": "stdout",
     "output_type": "stream",
     "text": [
      "Python:  sys.version_info(major=3, minor=9, micro=21, releaselevel='final', serial=0)\n",
      "1.2.2\n",
      "TF version:  2.10.0\n",
      "Default GPU Device: /device:GPU:0\n",
      "============\n",
      "Device Test\n",
      "============\n",
      "name: \"/device:CPU:0\"\n",
      "device_type: \"CPU\"\n",
      "memory_limit: 268435456\n",
      "locality {\n",
      "}\n",
      "incarnation: 4336482417900583924\n",
      "xla_global_id: -1\n",
      "\n",
      "name: \"/device:GPU:0\"\n",
      "device_type: \"GPU\"\n",
      "memory_limit: 14211350528\n",
      "locality {\n",
      "  bus_id: 1\n",
      "  links {\n",
      "  }\n",
      "}\n",
      "incarnation: 15601393363618015123\n",
      "physical_device_desc: \"device: 0, name: NVIDIA GeForce RTX 4070 Ti SUPER, pci bus id: 0000:01:00.0, compute capability: 8.9\"\n",
      "xla_global_id: 416903419\n",
      "\n"
     ]
    }
   ],
   "source": [
    "# Python ≥3.7 is required\n",
    "import sys\n",
    "print(\"Python: \", sys.version_info)\n",
    "assert sys.version_info >= (3, 7)\n",
    "\n",
    "from packaging import version\n",
    "import sklearn\n",
    "print(sklearn.__version__)\n",
    "assert version.parse(sklearn.__version__) >= version.parse(\"1.0.1\")\n",
    "\n",
    "try:\n",
    "    # %tensorflow_version only exists in Colab.\n",
    "    %tensorflow_version 2.x\n",
    "except Exception:\n",
    "    pass\n",
    "\n",
    "# TensorFlow ≥2.8.0 is required\n",
    "import tensorflow as tf\n",
    "print(\"TF version: \", tf.__version__)\n",
    "assert version.parse(tf.__version__) >= version.parse(\"2.8.0\")\n",
    "\n",
    "# GPU check\n",
    "import tensorflow as tf\n",
    "if tf.test.gpu_device_name():\n",
    "    print('Default GPU Device: {}'.format(tf.test.gpu_device_name()))\n",
    "else:\n",
    "    print(\"Please install GPU version of TF\")\n",
    "\n",
    "# GPU check\n",
    "if not \"google.colab\" in sys.modules: \n",
    "    from tensorflow.python.client import device_lib\n",
    "    print(\"============\")\n",
    "    print('Device Test')\n",
    "    print(\"============\")\n",
    "    print(device_lib.list_local_devices()[0])\n",
    "    print(device_lib.list_local_devices()[1])\n",
    "\n",
    "# Common imports\n",
    "import numpy as np\n",
    "import os\n",
    "\n",
    "# to make this notebook's output stable across runs\n",
    "np.random.seed(42)\n",
    "\n",
    "# To plot pretty figures\n",
    "%matplotlib inline\n",
    "import matplotlib as mpl\n",
    "import matplotlib.pyplot as plt\n",
    "plt.rc('font', size=14)\n",
    "plt.rc('axes', labelsize=14, titlesize=14)\n",
    "plt.rc('legend', fontsize=14)\n",
    "plt.rc('xtick', labelsize=10)\n",
    "plt.rc('ytick', labelsize=10)\n",
    "\n",
    "# Where to save the figures\n",
    "from pathlib import Path\n",
    "\n",
    "IMAGES_PATH = Path() / \"images\" / \"ann\"\n",
    "IMAGES_PATH.mkdir(parents=True, exist_ok=True)\n",
    "\n",
    "def save_fig(fig_id, tight_layout=True, fig_extension=\"png\", resolution=300):\n",
    "    path = IMAGES_PATH / f\"{fig_id}.{fig_extension}\"\n",
    "    if tight_layout:\n",
    "        plt.tight_layout()\n",
    "    plt.savefig(path, format=fig_extension, dpi=resolution)\n",
    "\n",
    "# Ignore useless warnings (see SciPy issue #5998)\n",
    "import warnings\n",
    "warnings.filterwarnings(action=\"ignore\", message=\"^internal gelsd\")"
   ]
  },
  {
   "cell_type": "code",
   "execution_count": 2,
   "metadata": {},
   "outputs": [
    {
     "data": {
      "text/plain": [
       "'2.10.0'"
      ]
     },
     "execution_count": 2,
     "metadata": {},
     "output_type": "execute_result"
    }
   ],
   "source": [
    "#import keras\n",
    "from tensorflow import keras\n",
    "keras.__version__"
   ]
  },
  {
   "cell_type": "code",
   "execution_count": 3,
   "metadata": {},
   "outputs": [],
   "source": [
    "from sklearn.datasets import fetch_california_housing\n",
    "from sklearn.model_selection import train_test_split\n",
    "from sklearn.preprocessing import StandardScaler\n",
    "\n",
    "housing = fetch_california_housing()\n",
    "X_train_full, X_test, y_train_full, y_test = train_test_split(\n",
    "    housing.data, housing.target, random_state=42, test_size=0.1)\n",
    "X_train, X_valid, y_train, y_valid = train_test_split(\n",
    "    X_train_full, y_train_full, random_state=42, test_size=0.2)\n",
    "\n",
    "X_train_wide, X_train_deep = X_train[:, :5], X_train[:, 2:]\n",
    "X_valid_wide, X_valid_deep = X_valid[:, :5], X_valid[:, 2:]\n",
    "X_test_wide, X_test_deep = X_test[:, :5], X_test[:, 2:]\n",
    "X_new_wide, X_new_deep = X_test_wide[:3], X_test_deep[:3]"
   ]
  },
  {
   "cell_type": "markdown",
   "metadata": {},
   "source": [
    "## Building Complex Models Using the Functional API"
   ]
  },
  {
   "cell_type": "code",
   "execution_count": 4,
   "metadata": {},
   "outputs": [
    {
     "name": "stdout",
     "output_type": "stream",
     "text": [
      "Epoch 1/20\n",
      "465/465 [==============================] - 2s 3ms/step - loss: 1.7247 - dense_2_loss: 1.6730 - dense_3_loss: 2.1907 - dense_2_root_mean_squared_error: 1.2934 - dense_3_root_mean_squared_error: 1.4801 - val_loss: 0.6290 - val_dense_2_loss: 0.5992 - val_dense_3_loss: 0.8971 - val_dense_2_root_mean_squared_error: 0.7741 - val_dense_3_root_mean_squared_error: 0.9472\n",
      "Epoch 2/20\n",
      "465/465 [==============================] - 1s 3ms/step - loss: 0.5276 - dense_2_loss: 0.5021 - dense_3_loss: 0.7566 - dense_2_root_mean_squared_error: 0.7086 - dense_3_root_mean_squared_error: 0.8698 - val_loss: 0.4771 - val_dense_2_loss: 0.4619 - val_dense_3_loss: 0.6138 - val_dense_2_root_mean_squared_error: 0.6796 - val_dense_3_root_mean_squared_error: 0.7834\n",
      "Epoch 3/20\n",
      "465/465 [==============================] - 1s 3ms/step - loss: 0.4365 - dense_2_loss: 0.4200 - dense_3_loss: 0.5854 - dense_2_root_mean_squared_error: 0.6481 - dense_3_root_mean_squared_error: 0.7651 - val_loss: 0.4344 - val_dense_2_loss: 0.4203 - val_dense_3_loss: 0.5621 - val_dense_2_root_mean_squared_error: 0.6483 - val_dense_3_root_mean_squared_error: 0.7498\n",
      "Epoch 4/20\n",
      "465/465 [==============================] - 1s 3ms/step - loss: 0.4081 - dense_2_loss: 0.3935 - dense_3_loss: 0.5396 - dense_2_root_mean_squared_error: 0.6273 - dense_3_root_mean_squared_error: 0.7346 - val_loss: 0.4196 - val_dense_2_loss: 0.4074 - val_dense_3_loss: 0.5294 - val_dense_2_root_mean_squared_error: 0.6383 - val_dense_3_root_mean_squared_error: 0.7276\n",
      "Epoch 5/20\n",
      "465/465 [==============================] - 1s 3ms/step - loss: 0.3903 - dense_2_loss: 0.3771 - dense_3_loss: 0.5086 - dense_2_root_mean_squared_error: 0.6141 - dense_3_root_mean_squared_error: 0.7132 - val_loss: 0.3971 - val_dense_2_loss: 0.3862 - val_dense_3_loss: 0.4952 - val_dense_2_root_mean_squared_error: 0.6215 - val_dense_3_root_mean_squared_error: 0.7037\n",
      "Epoch 6/20\n",
      "465/465 [==============================] - 1s 3ms/step - loss: 0.3830 - dense_2_loss: 0.3720 - dense_3_loss: 0.4821 - dense_2_root_mean_squared_error: 0.6099 - dense_3_root_mean_squared_error: 0.6943 - val_loss: 0.4300 - val_dense_2_loss: 0.4240 - val_dense_3_loss: 0.4845 - val_dense_2_root_mean_squared_error: 0.6511 - val_dense_3_root_mean_squared_error: 0.6961\n",
      "Epoch 7/20\n",
      "465/465 [==============================] - 1s 3ms/step - loss: 0.3751 - dense_2_loss: 0.3658 - dense_3_loss: 0.4590 - dense_2_root_mean_squared_error: 0.6048 - dense_3_root_mean_squared_error: 0.6775 - val_loss: 0.4004 - val_dense_2_loss: 0.3933 - val_dense_3_loss: 0.4652 - val_dense_2_root_mean_squared_error: 0.6271 - val_dense_3_root_mean_squared_error: 0.6821\n",
      "Epoch 8/20\n",
      "465/465 [==============================] - 1s 3ms/step - loss: 0.3881 - dense_2_loss: 0.3805 - dense_3_loss: 0.4557 - dense_2_root_mean_squared_error: 0.6169 - dense_3_root_mean_squared_error: 0.6750 - val_loss: 0.3732 - val_dense_2_loss: 0.3657 - val_dense_3_loss: 0.4405 - val_dense_2_root_mean_squared_error: 0.6047 - val_dense_3_root_mean_squared_error: 0.6637\n",
      "Epoch 9/20\n",
      "465/465 [==============================] - 1s 3ms/step - loss: 0.3587 - dense_2_loss: 0.3503 - dense_3_loss: 0.4345 - dense_2_root_mean_squared_error: 0.5918 - dense_3_root_mean_squared_error: 0.6592 - val_loss: 0.3660 - val_dense_2_loss: 0.3588 - val_dense_3_loss: 0.4306 - val_dense_2_root_mean_squared_error: 0.5990 - val_dense_3_root_mean_squared_error: 0.6562\n",
      "Epoch 10/20\n",
      "465/465 [==============================] - 1s 3ms/step - loss: 0.3489 - dense_2_loss: 0.3408 - dense_3_loss: 0.4212 - dense_2_root_mean_squared_error: 0.5838 - dense_3_root_mean_squared_error: 0.6490 - val_loss: 0.3641 - val_dense_2_loss: 0.3579 - val_dense_3_loss: 0.4196 - val_dense_2_root_mean_squared_error: 0.5983 - val_dense_3_root_mean_squared_error: 0.6478\n",
      "Epoch 11/20\n",
      "465/465 [==============================] - 1s 3ms/step - loss: 0.3434 - dense_2_loss: 0.3356 - dense_3_loss: 0.4136 - dense_2_root_mean_squared_error: 0.5793 - dense_3_root_mean_squared_error: 0.6431 - val_loss: 0.3626 - val_dense_2_loss: 0.3563 - val_dense_3_loss: 0.4190 - val_dense_2_root_mean_squared_error: 0.5969 - val_dense_3_root_mean_squared_error: 0.6473\n",
      "Epoch 12/20\n",
      "465/465 [==============================] - 1s 3ms/step - loss: 0.3589 - dense_2_loss: 0.3525 - dense_3_loss: 0.4163 - dense_2_root_mean_squared_error: 0.5937 - dense_3_root_mean_squared_error: 0.6453 - val_loss: 0.3535 - val_dense_2_loss: 0.3471 - val_dense_3_loss: 0.4117 - val_dense_2_root_mean_squared_error: 0.5891 - val_dense_3_root_mean_squared_error: 0.6417\n",
      "Epoch 13/20\n",
      "465/465 [==============================] - 1s 3ms/step - loss: 0.3438 - dense_2_loss: 0.3368 - dense_3_loss: 0.4067 - dense_2_root_mean_squared_error: 0.5803 - dense_3_root_mean_squared_error: 0.6378 - val_loss: 0.3583 - val_dense_2_loss: 0.3530 - val_dense_3_loss: 0.4057 - val_dense_2_root_mean_squared_error: 0.5942 - val_dense_3_root_mean_squared_error: 0.6369\n",
      "Epoch 14/20\n",
      "465/465 [==============================] - 1s 3ms/step - loss: 0.3487 - dense_2_loss: 0.3424 - dense_3_loss: 0.4056 - dense_2_root_mean_squared_error: 0.5851 - dense_3_root_mean_squared_error: 0.6369 - val_loss: 0.3694 - val_dense_2_loss: 0.3643 - val_dense_3_loss: 0.4156 - val_dense_2_root_mean_squared_error: 0.6036 - val_dense_3_root_mean_squared_error: 0.6446\n",
      "Epoch 15/20\n",
      "465/465 [==============================] - 1s 3ms/step - loss: 0.4031 - dense_2_loss: 0.3994 - dense_3_loss: 0.4369 - dense_2_root_mean_squared_error: 0.6320 - dense_3_root_mean_squared_error: 0.6610 - val_loss: 0.3654 - val_dense_2_loss: 0.3608 - val_dense_3_loss: 0.4076 - val_dense_2_root_mean_squared_error: 0.6006 - val_dense_3_root_mean_squared_error: 0.6384\n",
      "Epoch 16/20\n",
      "465/465 [==============================] - 1s 3ms/step - loss: 0.3422 - dense_2_loss: 0.3362 - dense_3_loss: 0.3965 - dense_2_root_mean_squared_error: 0.5798 - dense_3_root_mean_squared_error: 0.6297 - val_loss: 0.3500 - val_dense_2_loss: 0.3444 - val_dense_3_loss: 0.4002 - val_dense_2_root_mean_squared_error: 0.5869 - val_dense_3_root_mean_squared_error: 0.6326\n",
      "Epoch 17/20\n",
      "465/465 [==============================] - 1s 3ms/step - loss: 0.3389 - dense_2_loss: 0.3322 - dense_3_loss: 0.3992 - dense_2_root_mean_squared_error: 0.5764 - dense_3_root_mean_squared_error: 0.6318 - val_loss: 0.3536 - val_dense_2_loss: 0.3476 - val_dense_3_loss: 0.4082 - val_dense_2_root_mean_squared_error: 0.5896 - val_dense_3_root_mean_squared_error: 0.6389\n",
      "Epoch 18/20\n",
      "465/465 [==============================] - 1s 3ms/step - loss: 0.3314 - dense_2_loss: 0.3247 - dense_3_loss: 0.3921 - dense_2_root_mean_squared_error: 0.5698 - dense_3_root_mean_squared_error: 0.6262 - val_loss: 0.3468 - val_dense_2_loss: 0.3412 - val_dense_3_loss: 0.3975 - val_dense_2_root_mean_squared_error: 0.5841 - val_dense_3_root_mean_squared_error: 0.6305\n",
      "Epoch 19/20\n",
      "465/465 [==============================] - 2s 3ms/step - loss: 0.3326 - dense_2_loss: 0.3262 - dense_3_loss: 0.3896 - dense_2_root_mean_squared_error: 0.5712 - dense_3_root_mean_squared_error: 0.6242 - val_loss: 0.3422 - val_dense_2_loss: 0.3364 - val_dense_3_loss: 0.3942 - val_dense_2_root_mean_squared_error: 0.5800 - val_dense_3_root_mean_squared_error: 0.6278\n",
      "Epoch 20/20\n",
      "465/465 [==============================] - 2s 4ms/step - loss: 0.3284 - dense_2_loss: 0.3219 - dense_3_loss: 0.3864 - dense_2_root_mean_squared_error: 0.5674 - dense_3_root_mean_squared_error: 0.6216 - val_loss: 0.3450 - val_dense_2_loss: 0.3395 - val_dense_3_loss: 0.3939 - val_dense_2_root_mean_squared_error: 0.5827 - val_dense_3_root_mean_squared_error: 0.6276\n"
     ]
    }
   ],
   "source": [
    "input_wide = tf.keras.layers.Input(shape=[5])  # features 0 to 4\n",
    "input_deep = tf.keras.layers.Input(shape=[6])  # features 2 to 7\n",
    "norm_layer_wide = tf.keras.layers.Normalization()\n",
    "norm_layer_deep = tf.keras.layers.Normalization()\n",
    "norm_wide = norm_layer_wide(input_wide)\n",
    "norm_deep = norm_layer_deep(input_deep)\n",
    "hidden1 = tf.keras.layers.Dense(30, activation=\"relu\")(norm_deep)\n",
    "hidden2 = tf.keras.layers.Dense(30, activation=\"relu\")(hidden1)\n",
    "concat = tf.keras.layers.concatenate([norm_wide, hidden2])\n",
    "output = tf.keras.layers.Dense(1)(concat)\n",
    "aux_output = tf.keras.layers.Dense(1)(hidden2)\n",
    "model = tf.keras.Model(inputs=[input_wide, input_deep],\n",
    "                       outputs=[output, aux_output])\n",
    "optimizer = tf.keras.optimizers.Adam(learning_rate=1e-3)\n",
    "model.compile(loss=(\"mse\", \"mse\"), loss_weights=(0.9, 0.1), optimizer=optimizer,\n",
    "              metrics=[\"RootMeanSquaredError\"])\n",
    "# Higher version\n",
    "#model.compile(loss=(\"mse\", \"mse\"), loss_weights=(0.9, 0.1), optimizer=optimizer,\n",
    "#              metrics=[\"RootMeanSquaredError\", \"RootMeanSquaredError\"])\n",
    "norm_layer_wide.adapt(X_train_wide)\n",
    "norm_layer_deep.adapt(X_train_deep)\n",
    "history = model.fit(\n",
    "    (X_train_wide, X_train_deep), (y_train, y_train), epochs=20,\n",
    "    validation_data=((X_valid_wide, X_valid_deep), (y_valid, y_valid))\n",
    ")"
   ]
  },
  {
   "cell_type": "code",
   "execution_count": 5,
   "metadata": {},
   "outputs": [
    {
     "name": "stdout",
     "output_type": "stream",
     "text": [
      "65/65 [==============================] - 0s 2ms/step - loss: 0.3578 - dense_2_loss: 0.3524 - dense_3_loss: 0.4064 - dense_2_root_mean_squared_error: 0.5936 - dense_3_root_mean_squared_error: 0.6375\n",
      "[0.3577599823474884, 0.35235825181007385, 0.40637466311454773, 0.5935977101325989, 0.6374751925468445]\n",
      "weighted_sum_of_rmses:  0.5979854583740235\n",
      "1/1 [==============================] - 0s 56ms/step\n"
     ]
    }
   ],
   "source": [
    "eval_results = model.evaluate((X_test_wide, X_test_deep), (y_test, y_test))\n",
    "print(eval_results)\n",
    "weighted_sum_of_rmse = eval_results[3]*0.9 + eval_results[4]*0.1\n",
    "print(\"weighted_sum_of_rmses: \", weighted_sum_of_rmse)\n",
    "y_pred_main, y_pred_aux = model.predict((X_new_wide, X_new_deep))"
   ]
  },
  {
   "cell_type": "code",
   "execution_count": 6,
   "metadata": {},
   "outputs": [],
   "source": [
    "class WideAndDeepModel(tf.keras.Model):\n",
    "    def __init__(self, units=30, activation=\"relu\", **kwargs):\n",
    "        super().__init__(**kwargs)  # needed to support naming the model\n",
    "        self.norm_layer_wide = tf.keras.layers.Normalization()\n",
    "        self.norm_layer_deep = tf.keras.layers.Normalization()\n",
    "        self.hidden1 = tf.keras.layers.Dense(units, activation=activation)\n",
    "        self.hidden2 = tf.keras.layers.Dense(units, activation=activation)\n",
    "        self.main_output = tf.keras.layers.Dense(1)\n",
    "        self.aux_output = tf.keras.layers.Dense(1)\n",
    "        \n",
    "    def call(self, inputs):\n",
    "        input_wide, input_deep = inputs\n",
    "        norm_wide = self.norm_layer_wide(input_wide)\n",
    "        norm_deep = self.norm_layer_deep(input_deep)\n",
    "        hidden1 = self.hidden1(norm_deep)\n",
    "        hidden2 = self.hidden2(hidden1)\n",
    "        concat = tf.keras.layers.concatenate([norm_wide, hidden2])\n",
    "        output = self.main_output(concat)\n",
    "        aux_output = self.aux_output(hidden2)\n",
    "        return output, aux_output\n",
    "\n",
    "tf.random.set_seed(42)  # extra code – just for reproducibility\n",
    "model1 = WideAndDeepModel(30, activation=\"relu\", name=\"my_cool_model\")"
   ]
  },
  {
   "cell_type": "code",
   "execution_count": 7,
   "metadata": {},
   "outputs": [
    {
     "name": "stdout",
     "output_type": "stream",
     "text": [
      "Epoch 1/10\n",
      "465/465 [==============================] - 2s 4ms/step - loss: 1.1607 - output_1_loss: 1.0963 - output_2_loss: 1.7405 - output_1_root_mean_squared_error: 1.0470 - output_2_root_mean_squared_error: 1.3193 - val_loss: 0.5530 - val_output_1_loss: 0.5194 - val_output_2_loss: 0.8554 - val_output_1_root_mean_squared_error: 0.7207 - val_output_2_root_mean_squared_error: 0.9249\n",
      "Epoch 2/10\n",
      "465/465 [==============================] - 2s 3ms/step - loss: 0.4833 - output_1_loss: 0.4525 - output_2_loss: 0.7607 - output_1_root_mean_squared_error: 0.6727 - output_2_root_mean_squared_error: 0.8722 - val_loss: 0.4477 - val_output_1_loss: 0.4270 - val_output_2_loss: 0.6337 - val_output_1_root_mean_squared_error: 0.6535 - val_output_2_root_mean_squared_error: 0.7961\n",
      "Epoch 3/10\n",
      "465/465 [==============================] - 2s 3ms/step - loss: 0.4282 - output_1_loss: 0.4083 - output_2_loss: 0.6077 - output_1_root_mean_squared_error: 0.6390 - output_2_root_mean_squared_error: 0.7795 - val_loss: 0.4275 - val_output_1_loss: 0.4115 - val_output_2_loss: 0.5716 - val_output_1_root_mean_squared_error: 0.6414 - val_output_2_root_mean_squared_error: 0.7560\n",
      "Epoch 4/10\n",
      "465/465 [==============================] - 2s 4ms/step - loss: 0.4029 - output_1_loss: 0.3864 - output_2_loss: 0.5515 - output_1_root_mean_squared_error: 0.6216 - output_2_root_mean_squared_error: 0.7426 - val_loss: 0.4210 - val_output_1_loss: 0.4077 - val_output_2_loss: 0.5403 - val_output_1_root_mean_squared_error: 0.6385 - val_output_2_root_mean_squared_error: 0.7351\n",
      "Epoch 5/10\n",
      "465/465 [==============================] - 2s 4ms/step - loss: 0.3867 - output_1_loss: 0.3723 - output_2_loss: 0.5168 - output_1_root_mean_squared_error: 0.6101 - output_2_root_mean_squared_error: 0.7189 - val_loss: 0.3928 - val_output_1_loss: 0.3811 - val_output_2_loss: 0.4981 - val_output_1_root_mean_squared_error: 0.6173 - val_output_2_root_mean_squared_error: 0.7058\n",
      "Epoch 6/10\n",
      "465/465 [==============================] - 2s 3ms/step - loss: 0.3747 - output_1_loss: 0.3615 - output_2_loss: 0.4930 - output_1_root_mean_squared_error: 0.6013 - output_2_root_mean_squared_error: 0.7022 - val_loss: 0.3871 - val_output_1_loss: 0.3773 - val_output_2_loss: 0.4759 - val_output_1_root_mean_squared_error: 0.6142 - val_output_2_root_mean_squared_error: 0.6899\n",
      "Epoch 7/10\n",
      "465/465 [==============================] - 2s 3ms/step - loss: 0.3674 - output_1_loss: 0.3557 - output_2_loss: 0.4722 - output_1_root_mean_squared_error: 0.5964 - output_2_root_mean_squared_error: 0.6872 - val_loss: 0.3978 - val_output_1_loss: 0.3909 - val_output_2_loss: 0.4602 - val_output_1_root_mean_squared_error: 0.6252 - val_output_2_root_mean_squared_error: 0.6784\n",
      "Epoch 8/10\n",
      "465/465 [==============================] - 2s 3ms/step - loss: 0.3807 - output_1_loss: 0.3723 - output_2_loss: 0.4561 - output_1_root_mean_squared_error: 0.6102 - output_2_root_mean_squared_error: 0.6753 - val_loss: 0.3726 - val_output_1_loss: 0.3650 - val_output_2_loss: 0.4409 - val_output_1_root_mean_squared_error: 0.6042 - val_output_2_root_mean_squared_error: 0.6640\n",
      "Epoch 9/10\n",
      "465/465 [==============================] - 2s 3ms/step - loss: 0.3516 - output_1_loss: 0.3420 - output_2_loss: 0.4380 - output_1_root_mean_squared_error: 0.5848 - output_2_root_mean_squared_error: 0.6618 - val_loss: 0.3654 - val_output_1_loss: 0.3578 - val_output_2_loss: 0.4346 - val_output_1_root_mean_squared_error: 0.5981 - val_output_2_root_mean_squared_error: 0.6593\n",
      "Epoch 10/10\n",
      "465/465 [==============================] - 2s 3ms/step - loss: 0.3476 - output_1_loss: 0.3382 - output_2_loss: 0.4324 - output_1_root_mean_squared_error: 0.5815 - output_2_root_mean_squared_error: 0.6575 - val_loss: 0.3754 - val_output_1_loss: 0.3681 - val_output_2_loss: 0.4408 - val_output_1_root_mean_squared_error: 0.6067 - val_output_2_root_mean_squared_error: 0.6639\n",
      "\n",
      "Evaluating...\n",
      "65/65 [==============================] - 0s 2ms/step - loss: 0.3794 - output_1_loss: 0.3719 - output_2_loss: 0.4463 - output_1_root_mean_squared_error: 0.6099 - output_2_root_mean_squared_error: 0.6681\n",
      "1/1 [==============================] - 0s 36ms/step\n",
      "[0.3793811798095703, 0.37194573879241943, 0.44629985094070435, 0.6098735332489014, 0.6680567860603333]\n",
      "weighted_sum_of_rmses:  0.6156918585300446\n"
     ]
    }
   ],
   "source": [
    "optimizer = tf.keras.optimizers.Adam(learning_rate=1e-3)\n",
    "model1.compile(loss=(\"mse\", \"mse\"), loss_weights=(0.9, 0.1), optimizer=optimizer,\n",
    "              metrics=[\"RootMeanSquaredError\"])\n",
    "# Higher version\n",
    "#model1.compile(loss=(\"mse\", \"mse\"), loss_weights=(0.9, 0.1), optimizer=optimizer,\n",
    "#              metrics=[\"RootMeanSquaredError\", \"RootMeanSquaredError\"])\n",
    "model1.norm_layer_wide.adapt(X_train_wide)\n",
    "model1.norm_layer_deep.adapt(X_train_deep)\n",
    "history = model1.fit(\n",
    "    (X_train_wide, X_train_deep), (y_train, y_train), epochs=10,\n",
    "    validation_data=((X_valid_wide, X_valid_deep), (y_valid, y_valid)))\n",
    "print(\"\\nEvaluating...\")\n",
    "eval_results1 = model1.evaluate((X_test_wide, X_test_deep), (y_test, y_test))\n",
    "y_pred_main, y_pred_aux = model1.predict((X_new_wide, X_new_deep))\n",
    "print(eval_results1)\n",
    "weighted_sum_of_rmse1 = eval_results1[3]*0.9 + eval_results1[4]*0.1\n",
    "#Higher version\n",
    "#weighted_sum_of_rmse = eval_results1[1]*0.9 + eval_results1[5]*0.1\n",
    "print(\"weighted_sum_of_rmses: \", weighted_sum_of_rmse1)"
   ]
  },
  {
   "cell_type": "markdown",
   "metadata": {},
   "source": [
    "# Saving and Restoring"
   ]
  },
  {
   "cell_type": "code",
   "execution_count": 8,
   "metadata": {},
   "outputs": [],
   "source": [
    "# extra code – delete the directory, in case it already exists\n",
    "\n",
    "import shutil\n",
    "\n",
    "shutil.rmtree(\"my_keras_model\", ignore_errors=True)\n",
    "shutil.rmtree(\"my_keras_model1\", ignore_errors=True)"
   ]
  },
  {
   "cell_type": "code",
   "execution_count": 9,
   "metadata": {},
   "outputs": [
    {
     "name": "stdout",
     "output_type": "stream",
     "text": [
      "1/1 [==============================] - 0s 25ms/step\n",
      "INFO:tensorflow:Assets written to: my_keras_model\\assets\n",
      "1/1 [==============================] - 0s 12ms/step\n",
      "INFO:tensorflow:Assets written to: my_keras_model1\\assets\n"
     ]
    }
   ],
   "source": [
    "# 모델 저장 직전에 추가\n",
    "# 모델 호출하여 입력 형태 정의 \n",
    "model.predict((X_new_wide, X_new_deep))\n",
    "model.save(\"my_keras_model\", save_format=\"tf\")\n",
    "\n",
    "# 모델1 호출하여 입력 형태 정의\n",
    "model1.predict((X_new_wide, X_new_deep)) \n",
    "model1.save(\"my_keras_model1\", save_format=\"tf\")\n",
    "# Higher version\n",
    "#model.export(\"my_keras_model\")\n",
    "#model1.export(\"my_keras_model1\")"
   ]
  },
  {
   "cell_type": "code",
   "execution_count": 10,
   "metadata": {},
   "outputs": [
    {
     "name": "stdout",
     "output_type": "stream",
     "text": [
      "my_keras_model\\assets\n",
      "my_keras_model\\keras_metadata.pb\n",
      "my_keras_model\\saved_model.pb\n",
      "my_keras_model\\variables\n",
      "my_keras_model\\variables\\variables.data-00000-of-00001\n",
      "my_keras_model\\variables\\variables.index\n"
     ]
    }
   ],
   "source": [
    "# extra code – show the contents of the my_keras_model/ directory. TF2.8 only\n",
    "for path in sorted(Path(\"my_keras_model\").glob(\"**/*\")):\n",
    "    print(path)"
   ]
  },
  {
   "cell_type": "code",
   "execution_count": 11,
   "metadata": {},
   "outputs": [
    {
     "name": "stdout",
     "output_type": "stream",
     "text": [
      "1/1 [==============================] - 0s 39ms/step\n"
     ]
    }
   ],
   "source": [
    "model2 = tf.keras.models.load_model(\"my_keras_model\")\n",
    "model3 = tf.keras.models.load_model(\"my_keras_model1\")\n",
    "y_pred_main, y_pred_aux = model3.predict((X_new_wide, X_new_deep))\n",
    "#Higher version\n",
    "#tfsm_layer = tf.keras.layers.TFSMLayer(\"my_keras_model1\")\n",
    "#y_pred_main, y_pred_aux = tfsm_layer((X_new_wide, X_new_deep))"
   ]
  },
  {
   "cell_type": "code",
   "execution_count": 12,
   "metadata": {},
   "outputs": [],
   "source": [
    "model.save_weights(\"my_weights\")\n",
    "model1.save_weights(\"my_weights\")\n",
    "#HIgher version\n",
    "#model.save_weights(\"my_weights.weights.h5\")\n",
    "#model1.save_weights(\"my_weights1.weights.h5\")"
   ]
  },
  {
   "cell_type": "code",
   "execution_count": 13,
   "metadata": {},
   "outputs": [
    {
     "data": {
      "text/plain": [
       "<tensorflow.python.checkpoint.checkpoint.CheckpointLoadStatus at 0x2c125198e50>"
      ]
     },
     "execution_count": 13,
     "metadata": {},
     "output_type": "execute_result"
    }
   ],
   "source": [
    "model.load_weights(\"my_weights\")\n",
    "model1.load_weights(\"my_weights\")\n",
    "#HIgher version\n",
    "#model.load_weights(\"my_weights.weights.h5\")\n",
    "#model1.load_weights(\"my_weights1.weights.h5\")"
   ]
  },
  {
   "cell_type": "markdown",
   "metadata": {},
   "source": [
    "For higher versions, to save a model using the `.keras` format, simply use `model.save()`:"
   ]
  },
  {
   "cell_type": "code",
   "execution_count": 14,
   "metadata": {},
   "outputs": [],
   "source": [
    "#Higher version\n",
    "#model.save(\"my_model.keras\")\n",
    "#model1.save(\"my_model1.keras\")"
   ]
  },
  {
   "cell_type": "markdown",
   "metadata": {},
   "source": [
    "For higher versions, to load a `.keras` model, use the `tf.keras.models.load_model()` function. If the model uses any custom object, you must pass them to the function via the `custom_objects` argument:"
   ]
  },
  {
   "cell_type": "code",
   "execution_count": 15,
   "metadata": {},
   "outputs": [],
   "source": [
    "#loaded_model = tf.keras.models.load_model(\"my_model.keras\")\n",
    "#loaded_model1 = tf.keras.models.load_model(\n",
    "#    \"my_model1.keras\",\n",
    "#    custom_objects={\"WideAndDeepModel\": WideAndDeepModel}\n",
    "#)"
   ]
  },
  {
   "cell_type": "code",
   "execution_count": 16,
   "metadata": {},
   "outputs": [
    {
     "name": "stdout",
     "output_type": "stream",
     "text": [
      "my_weights.data-00000-of-00001\n",
      "my_weights.index\n"
     ]
    }
   ],
   "source": [
    "# extra code – show the list of my_weights.* files\n",
    "for path in sorted(Path().glob(\"my_weights.*\")):\n",
    "    print(path)"
   ]
  },
  {
   "cell_type": "markdown",
   "metadata": {},
   "source": [
    "### ==P1. Saving and Restoring==\n",
    "#### model1와 model3 (또는 loaded_model1)에 대해 X_test_wide, X_test_deep의 입력을 이용하여 evaluate 결과를 구하여 원래의 값과 비교하시오.\n",
    "#### Answer.\n",
    "- 서로 다른 객체임에도 불구하고 정확히 똑같은 값을 나타내었다.\n",
    "- 평가 결과 비교:\n",
    "  - 총 손실(Loss): 원본 모델 0.3763 = 로드된 모델 0.3763 (차이: 0.0)\n",
    "  - 주 출력 손실(Main output loss): 원본 모델 0.3697 = 로드된 모델 0.3697 (차이: 0.0)\n",
    "  - 보조 출력 손실(Aux output loss): 원본 모델 0.4362 = 로드된 모델 0.4362 (차이: 0.0)\n",
    "  - 주 출력 RMSE: 원본 모델 0.6080 = 로드된 모델 0.6080 (차이: 0.0)\n",
    "  - 보조 출력 RMSE: 원본 모델 0.6604 = 로드된 모델 0.6604 (차이: 0.0)\n",
    "- 이는 TensorFlow의 모델 저장 및 로드 기능이 모델의 구조와 가중치를 정확하게 보존함을 증명한다.\n",
    "- 추가 테스트에서도 서로 다른 객체이며(model1 is model3: False), 수정된 입력에 대해서도 동일한 예측을 수행하는 것을 확인했다."
   ]
  },
  {
   "cell_type": "code",
   "execution_count": 17,
   "metadata": {},
   "outputs": [
    {
     "name": "stdout",
     "output_type": "stream",
     "text": [
      "Original model evaluation:\n",
      "65/65 [==============================] - 0s 2ms/step - loss: 0.3794 - output_1_loss: 0.3719 - output_2_loss: 0.4463 - output_1_root_mean_squared_error: 0.6099 - output_2_root_mean_squared_error: 0.6681\n",
      "Original model - Loss: 0.3793811798095703\n",
      "Original model - Main output loss: 0.37194573879241943\n",
      "Original model - Aux output loss: 0.44629985094070435\n",
      "Original model - Main output RMSE: 0.6098735332489014\n",
      "Original model - Aux output RMSE: 0.6680567860603333\n",
      "\n",
      "Loaded model evaluation:\n",
      "65/65 [==============================] - 0s 2ms/step - loss: 0.3794 - output_1_loss: 0.3719 - output_2_loss: 0.4463 - output_1_root_mean_squared_error: 0.6099 - output_2_root_mean_squared_error: 0.6681\n",
      "Loaded model - Loss: 0.3793811798095703\n",
      "Loaded model - Main output loss: 0.37194573879241943\n",
      "Loaded model - Aux output loss: 0.44629985094070435\n",
      "Loaded model - Main output RMSE: 0.6098735332489014\n",
      "Loaded model - Aux output RMSE: 0.6680567860603333\n",
      "\n",
      "Comparison:\n",
      "Total loss difference: 0.0\n",
      "Main output loss difference: 0.0\n",
      "Aux output loss difference: 0.0\n",
      "Main output RMSE difference: 0.0\n",
      "Aux output RMSE difference: 0.0\n"
     ]
    }
   ],
   "source": [
    "# 원래 모델(model1) 평가\n",
    "print(\"Original model evaluation:\")\n",
    "eval_results1 = model1.evaluate((X_test_wide, X_test_deep), (y_test, y_test))\n",
    "print(\"Original model - Loss:\", eval_results1[0])\n",
    "print(\"Original model - Main output loss:\", eval_results1[1])\n",
    "print(\"Original model - Aux output loss:\", eval_results1[2])\n",
    "print(\"Original model - Main output RMSE:\", eval_results1[3])\n",
    "print(\"Original model - Aux output RMSE:\", eval_results1[4])\n",
    "\n",
    "# 불러온 모델(model3) 평가\n",
    "print(\"\\nLoaded model evaluation:\")\n",
    "eval_results3 = model3.evaluate((X_test_wide, X_test_deep), (y_test, y_test))\n",
    "print(\"Loaded model - Loss:\", eval_results3[0])\n",
    "print(\"Loaded model - Main output loss:\", eval_results3[1])\n",
    "print(\"Loaded model - Aux output loss:\", eval_results3[2])\n",
    "print(\"Loaded model - Main output RMSE:\", eval_results3[3])\n",
    "print(\"Loaded model - Aux output RMSE:\", eval_results3[4])\n",
    "\n",
    "# 결과 비교\n",
    "print(\"\\nComparison:\")\n",
    "print(\"Total loss difference:\", abs(eval_results1[0] - eval_results3[0]))\n",
    "print(\"Main output loss difference:\", abs(eval_results1[1] - eval_results3[1]))\n",
    "print(\"Aux output loss difference:\", abs(eval_results1[2] - eval_results3[2]))\n",
    "print(\"Main output RMSE difference:\", abs(eval_results1[3] - eval_results3[3]))\n",
    "print(\"Aux output RMSE difference:\", abs(eval_results1[4] - eval_results3[4]))"
   ]
  },
  {
   "cell_type": "code",
   "execution_count": 18,
   "metadata": {},
   "outputs": [
    {
     "name": "stdout",
     "output_type": "stream",
     "text": [
      "Models are the same object: False\n",
      "1/1 [==============================] - 0s 15ms/step\n",
      "1/1 [==============================] - 0s 11ms/step\n",
      "Modified input predictions:\n",
      "Original model: [[0.4683363]]\n",
      "Loaded model: [[0.4683363]]\n",
      "Difference: 0.0\n"
     ]
    }
   ],
   "source": [
    "# 모델 구분을 위해 서로 다른 예측을 하는지 확인\n",
    "print(\"Models are the same object:\", model1 is model3)  # False여야 함\n",
    "\n",
    "# 약간 다른 입력으로 두 모델의 출력 비교\n",
    "import numpy as np\n",
    "X_test_modified = X_test_wide.copy()\n",
    "if X_test_modified.shape[0] > 0:\n",
    "    X_test_modified[0, 0] += 0.01  # 첫 번째 샘플의 첫 번째 특성 약간 수정\n",
    "    \n",
    "# 원본 모델과 로드된 모델이 수정된 입력에 대해 동일하게 반응하는지 확인\n",
    "y_pred1_mod, _ = model1.predict((X_test_modified[:1], X_test_deep[:1]))\n",
    "y_pred3_mod, _ = model3.predict((X_test_modified[:1], X_test_deep[:1]))\n",
    "print(\"Modified input predictions:\")\n",
    "print(\"Original model:\", y_pred1_mod)\n",
    "print(\"Loaded model:\", y_pred3_mod)\n",
    "print(\"Difference:\", np.abs(y_pred1_mod - y_pred3_mod).mean())"
   ]
  },
  {
   "cell_type": "markdown",
   "metadata": {},
   "source": [
    "## Using Callbacks during Training"
   ]
  },
  {
   "cell_type": "code",
   "execution_count": 19,
   "metadata": {},
   "outputs": [],
   "source": [
    "shutil.rmtree(\"my_checkpoints1\", ignore_errors=True)  # extra code"
   ]
  },
  {
   "cell_type": "code",
   "execution_count": 20,
   "metadata": {},
   "outputs": [
    {
     "name": "stdout",
     "output_type": "stream",
     "text": [
      "Epoch 1/10\n",
      "465/465 [==============================] - 2s 4ms/step - loss: 0.3451 - output_1_loss: 0.3370 - output_2_loss: 0.4185 - output_1_root_mean_squared_error: 0.5805 - output_2_root_mean_squared_error: 0.6470 - val_loss: 0.3808 - val_output_1_loss: 0.3739 - val_output_2_loss: 0.4431 - val_output_1_root_mean_squared_error: 0.6115 - val_output_2_root_mean_squared_error: 0.6656\n",
      "Epoch 2/10\n",
      "465/465 [==============================] - 2s 4ms/step - loss: 0.3411 - output_1_loss: 0.3327 - output_2_loss: 0.4169 - output_1_root_mean_squared_error: 0.5768 - output_2_root_mean_squared_error: 0.6457 - val_loss: 0.3683 - val_output_1_loss: 0.3630 - val_output_2_loss: 0.4159 - val_output_1_root_mean_squared_error: 0.6025 - val_output_2_root_mean_squared_error: 0.6449\n",
      "Epoch 3/10\n",
      "465/465 [==============================] - 2s 4ms/step - loss: 0.3520 - output_1_loss: 0.3447 - output_2_loss: 0.4181 - output_1_root_mean_squared_error: 0.5871 - output_2_root_mean_squared_error: 0.6466 - val_loss: 0.3482 - val_output_1_loss: 0.3415 - val_output_2_loss: 0.4080 - val_output_1_root_mean_squared_error: 0.5844 - val_output_2_root_mean_squared_error: 0.6387\n",
      "Epoch 4/10\n",
      "465/465 [==============================] - 2s 4ms/step - loss: 0.3362 - output_1_loss: 0.3285 - output_2_loss: 0.4050 - output_1_root_mean_squared_error: 0.5732 - output_2_root_mean_squared_error: 0.6364 - val_loss: 0.3622 - val_output_1_loss: 0.3562 - val_output_2_loss: 0.4161 - val_output_1_root_mean_squared_error: 0.5969 - val_output_2_root_mean_squared_error: 0.6450\n",
      "Epoch 5/10\n",
      "465/465 [==============================] - 2s 4ms/step - loss: 0.3294 - output_1_loss: 0.3222 - output_2_loss: 0.3947 - output_1_root_mean_squared_error: 0.5676 - output_2_root_mean_squared_error: 0.6283 - val_loss: 0.3405 - val_output_1_loss: 0.3349 - val_output_2_loss: 0.3906 - val_output_1_root_mean_squared_error: 0.5787 - val_output_2_root_mean_squared_error: 0.6250\n",
      "Epoch 6/10\n",
      "465/465 [==============================] - 2s 4ms/step - loss: 0.3284 - output_1_loss: 0.3213 - output_2_loss: 0.3930 - output_1_root_mean_squared_error: 0.5668 - output_2_root_mean_squared_error: 0.6269 - val_loss: 0.3434 - val_output_1_loss: 0.3380 - val_output_2_loss: 0.3919 - val_output_1_root_mean_squared_error: 0.5814 - val_output_2_root_mean_squared_error: 0.6260\n",
      "Epoch 7/10\n",
      "465/465 [==============================] - 2s 4ms/step - loss: 0.3278 - output_1_loss: 0.3208 - output_2_loss: 0.3914 - output_1_root_mean_squared_error: 0.5664 - output_2_root_mean_squared_error: 0.6256 - val_loss: 0.3414 - val_output_1_loss: 0.3363 - val_output_2_loss: 0.3876 - val_output_1_root_mean_squared_error: 0.5799 - val_output_2_root_mean_squared_error: 0.6226\n",
      "Epoch 8/10\n",
      "465/465 [==============================] - 2s 4ms/step - loss: 0.3410 - output_1_loss: 0.3354 - output_2_loss: 0.3914 - output_1_root_mean_squared_error: 0.5792 - output_2_root_mean_squared_error: 0.6256 - val_loss: 0.3404 - val_output_1_loss: 0.3349 - val_output_2_loss: 0.3895 - val_output_1_root_mean_squared_error: 0.5787 - val_output_2_root_mean_squared_error: 0.6241\n",
      "Epoch 9/10\n",
      "465/465 [==============================] - 2s 4ms/step - loss: 0.3233 - output_1_loss: 0.3166 - output_2_loss: 0.3839 - output_1_root_mean_squared_error: 0.5626 - output_2_root_mean_squared_error: 0.6196 - val_loss: 0.3411 - val_output_1_loss: 0.3355 - val_output_2_loss: 0.3914 - val_output_1_root_mean_squared_error: 0.5792 - val_output_2_root_mean_squared_error: 0.6256\n",
      "Epoch 10/10\n",
      "465/465 [==============================] - 2s 4ms/step - loss: 0.3241 - output_1_loss: 0.3173 - output_2_loss: 0.3847 - output_1_root_mean_squared_error: 0.5633 - output_2_root_mean_squared_error: 0.6202 - val_loss: 0.3510 - val_output_1_loss: 0.3447 - val_output_2_loss: 0.4080 - val_output_1_root_mean_squared_error: 0.5871 - val_output_2_root_mean_squared_error: 0.6388\n"
     ]
    }
   ],
   "source": [
    "checkpoint_cb = tf.keras.callbacks.ModelCheckpoint(\"my_checkpoints1\",save_weights_only=True)\n",
    "# Higher version\n",
    "#checkpoint_cb = tf.keras.callbacks.ModelCheckpoint(\"my_checkpoints1.weights.h5\",save_weights_only=True)\n",
    "history = model1.fit(\n",
    "    (X_train_wide, X_train_deep), (y_train, y_train), epochs=10,\n",
    "    validation_data=((X_valid_wide, X_valid_deep), (y_valid, y_valid)),\n",
    "    callbacks=[checkpoint_cb])"
   ]
  },
  {
   "cell_type": "code",
   "execution_count": 21,
   "metadata": {},
   "outputs": [
    {
     "name": "stdout",
     "output_type": "stream",
     "text": [
      "Epoch 1/100\n",
      "465/465 [==============================] - 2s 4ms/step - loss: 0.3214 - output_1_loss: 0.3147 - output_2_loss: 0.3821 - output_1_root_mean_squared_error: 0.5609 - output_2_root_mean_squared_error: 0.6182 - val_loss: 0.3433 - val_output_1_loss: 0.3376 - val_output_2_loss: 0.3940 - val_output_1_root_mean_squared_error: 0.5811 - val_output_2_root_mean_squared_error: 0.6277\n",
      "Epoch 2/100\n",
      "465/465 [==============================] - 2s 4ms/step - loss: 0.3209 - output_1_loss: 0.3142 - output_2_loss: 0.3812 - output_1_root_mean_squared_error: 0.5605 - output_2_root_mean_squared_error: 0.6175 - val_loss: 0.3398 - val_output_1_loss: 0.3334 - val_output_2_loss: 0.3982 - val_output_1_root_mean_squared_error: 0.5774 - val_output_2_root_mean_squared_error: 0.6311\n",
      "Epoch 3/100\n",
      "465/465 [==============================] - 2s 4ms/step - loss: 0.3311 - output_1_loss: 0.3240 - output_2_loss: 0.3948 - output_1_root_mean_squared_error: 0.5692 - output_2_root_mean_squared_error: 0.6283 - val_loss: 0.3411 - val_output_1_loss: 0.3355 - val_output_2_loss: 0.3909 - val_output_1_root_mean_squared_error: 0.5792 - val_output_2_root_mean_squared_error: 0.6252\n",
      "Epoch 4/100\n",
      "465/465 [==============================] - 2s 4ms/step - loss: 0.3161 - output_1_loss: 0.3098 - output_2_loss: 0.3731 - output_1_root_mean_squared_error: 0.5566 - output_2_root_mean_squared_error: 0.6108 - val_loss: 0.3466 - val_output_1_loss: 0.3412 - val_output_2_loss: 0.3956 - val_output_1_root_mean_squared_error: 0.5841 - val_output_2_root_mean_squared_error: 0.6290\n",
      "Epoch 5/100\n",
      "465/465 [==============================] - 2s 4ms/step - loss: 0.3141 - output_1_loss: 0.3078 - output_2_loss: 0.3707 - output_1_root_mean_squared_error: 0.5548 - output_2_root_mean_squared_error: 0.6089 - val_loss: 0.3305 - val_output_1_loss: 0.3257 - val_output_2_loss: 0.3732 - val_output_1_root_mean_squared_error: 0.5707 - val_output_2_root_mean_squared_error: 0.6109\n",
      "Epoch 6/100\n",
      "465/465 [==============================] - 2s 4ms/step - loss: 0.3187 - output_1_loss: 0.3124 - output_2_loss: 0.3760 - output_1_root_mean_squared_error: 0.5589 - output_2_root_mean_squared_error: 0.6132 - val_loss: 0.3313 - val_output_1_loss: 0.3262 - val_output_2_loss: 0.3768 - val_output_1_root_mean_squared_error: 0.5711 - val_output_2_root_mean_squared_error: 0.6138\n",
      "Epoch 7/100\n",
      "465/465 [==============================] - 2s 4ms/step - loss: 0.3140 - output_1_loss: 0.3077 - output_2_loss: 0.3709 - output_1_root_mean_squared_error: 0.5547 - output_2_root_mean_squared_error: 0.6090 - val_loss: 0.3290 - val_output_1_loss: 0.3241 - val_output_2_loss: 0.3729 - val_output_1_root_mean_squared_error: 0.5693 - val_output_2_root_mean_squared_error: 0.6107\n",
      "Epoch 8/100\n",
      "465/465 [==============================] - 2s 4ms/step - loss: 0.3176 - output_1_loss: 0.3118 - output_2_loss: 0.3701 - output_1_root_mean_squared_error: 0.5584 - output_2_root_mean_squared_error: 0.6084 - val_loss: 0.3309 - val_output_1_loss: 0.3257 - val_output_2_loss: 0.3778 - val_output_1_root_mean_squared_error: 0.5707 - val_output_2_root_mean_squared_error: 0.6147\n",
      "Epoch 9/100\n",
      "465/465 [==============================] - 2s 4ms/step - loss: 0.3111 - output_1_loss: 0.3049 - output_2_loss: 0.3673 - output_1_root_mean_squared_error: 0.5521 - output_2_root_mean_squared_error: 0.6061 - val_loss: 0.3361 - val_output_1_loss: 0.3312 - val_output_2_loss: 0.3801 - val_output_1_root_mean_squared_error: 0.5755 - val_output_2_root_mean_squared_error: 0.6166\n",
      "Epoch 10/100\n",
      "465/465 [==============================] - 2s 4ms/step - loss: 0.3131 - output_1_loss: 0.3069 - output_2_loss: 0.3693 - output_1_root_mean_squared_error: 0.5539 - output_2_root_mean_squared_error: 0.6077 - val_loss: 0.3448 - val_output_1_loss: 0.3394 - val_output_2_loss: 0.3927 - val_output_1_root_mean_squared_error: 0.5826 - val_output_2_root_mean_squared_error: 0.6267\n",
      "Epoch 11/100\n",
      "465/465 [==============================] - 2s 4ms/step - loss: 0.3140 - output_1_loss: 0.3080 - output_2_loss: 0.3676 - output_1_root_mean_squared_error: 0.5550 - output_2_root_mean_squared_error: 0.6063 - val_loss: 0.3256 - val_output_1_loss: 0.3199 - val_output_2_loss: 0.3774 - val_output_1_root_mean_squared_error: 0.5656 - val_output_2_root_mean_squared_error: 0.6143\n",
      "Epoch 12/100\n",
      "465/465 [==============================] - 2s 4ms/step - loss: 0.3121 - output_1_loss: 0.3062 - output_2_loss: 0.3650 - output_1_root_mean_squared_error: 0.5533 - output_2_root_mean_squared_error: 0.6042 - val_loss: 0.3298 - val_output_1_loss: 0.3251 - val_output_2_loss: 0.3727 - val_output_1_root_mean_squared_error: 0.5702 - val_output_2_root_mean_squared_error: 0.6105\n",
      "Epoch 13/100\n",
      "465/465 [==============================] - 2s 4ms/step - loss: 0.3080 - output_1_loss: 0.3019 - output_2_loss: 0.3628 - output_1_root_mean_squared_error: 0.5495 - output_2_root_mean_squared_error: 0.6023 - val_loss: 0.3319 - val_output_1_loss: 0.3265 - val_output_2_loss: 0.3804 - val_output_1_root_mean_squared_error: 0.5714 - val_output_2_root_mean_squared_error: 0.6168\n",
      "Epoch 14/100\n",
      "465/465 [==============================] - 1s 3ms/step - loss: 0.3061 - output_1_loss: 0.3001 - output_2_loss: 0.3602 - output_1_root_mean_squared_error: 0.5478 - output_2_root_mean_squared_error: 0.6002 - val_loss: 0.3302 - val_output_1_loss: 0.3254 - val_output_2_loss: 0.3732 - val_output_1_root_mean_squared_error: 0.5704 - val_output_2_root_mean_squared_error: 0.6109\n",
      "Epoch 15/100\n",
      "465/465 [==============================] - 1s 3ms/step - loss: 0.3053 - output_1_loss: 0.2994 - output_2_loss: 0.3581 - output_1_root_mean_squared_error: 0.5472 - output_2_root_mean_squared_error: 0.5984 - val_loss: 0.3270 - val_output_1_loss: 0.3217 - val_output_2_loss: 0.3750 - val_output_1_root_mean_squared_error: 0.5672 - val_output_2_root_mean_squared_error: 0.6124\n",
      "Epoch 16/100\n",
      "465/465 [==============================] - 2s 3ms/step - loss: 0.3057 - output_1_loss: 0.2998 - output_2_loss: 0.3588 - output_1_root_mean_squared_error: 0.5475 - output_2_root_mean_squared_error: 0.5990 - val_loss: 0.3252 - val_output_1_loss: 0.3199 - val_output_2_loss: 0.3726 - val_output_1_root_mean_squared_error: 0.5656 - val_output_2_root_mean_squared_error: 0.6104\n",
      "Epoch 17/100\n",
      "465/465 [==============================] - 2s 3ms/step - loss: 0.3033 - output_1_loss: 0.2974 - output_2_loss: 0.3567 - output_1_root_mean_squared_error: 0.5453 - output_2_root_mean_squared_error: 0.5972 - val_loss: 0.3214 - val_output_1_loss: 0.3165 - val_output_2_loss: 0.3656 - val_output_1_root_mean_squared_error: 0.5626 - val_output_2_root_mean_squared_error: 0.6046\n",
      "Epoch 18/100\n",
      "465/465 [==============================] - 2s 3ms/step - loss: 0.3030 - output_1_loss: 0.2972 - output_2_loss: 0.3547 - output_1_root_mean_squared_error: 0.5452 - output_2_root_mean_squared_error: 0.5956 - val_loss: 0.3247 - val_output_1_loss: 0.3198 - val_output_2_loss: 0.3695 - val_output_1_root_mean_squared_error: 0.5655 - val_output_2_root_mean_squared_error: 0.6078\n",
      "Epoch 19/100\n",
      "465/465 [==============================] - 2s 3ms/step - loss: 0.3042 - output_1_loss: 0.2986 - output_2_loss: 0.3552 - output_1_root_mean_squared_error: 0.5464 - output_2_root_mean_squared_error: 0.5960 - val_loss: 0.3199 - val_output_1_loss: 0.3149 - val_output_2_loss: 0.3648 - val_output_1_root_mean_squared_error: 0.5612 - val_output_2_root_mean_squared_error: 0.6040\n",
      "Epoch 20/100\n",
      "465/465 [==============================] - 2s 3ms/step - loss: 0.3034 - output_1_loss: 0.2977 - output_2_loss: 0.3551 - output_1_root_mean_squared_error: 0.5456 - output_2_root_mean_squared_error: 0.5959 - val_loss: 0.3232 - val_output_1_loss: 0.3182 - val_output_2_loss: 0.3679 - val_output_1_root_mean_squared_error: 0.5641 - val_output_2_root_mean_squared_error: 0.6065\n",
      "Epoch 21/100\n",
      "465/465 [==============================] - 2s 3ms/step - loss: 0.3007 - output_1_loss: 0.2949 - output_2_loss: 0.3530 - output_1_root_mean_squared_error: 0.5431 - output_2_root_mean_squared_error: 0.5941 - val_loss: 0.3219 - val_output_1_loss: 0.3172 - val_output_2_loss: 0.3642 - val_output_1_root_mean_squared_error: 0.5632 - val_output_2_root_mean_squared_error: 0.6035\n",
      "Epoch 22/100\n",
      "465/465 [==============================] - 1s 3ms/step - loss: 0.3052 - output_1_loss: 0.2999 - output_2_loss: 0.3523 - output_1_root_mean_squared_error: 0.5477 - output_2_root_mean_squared_error: 0.5935 - val_loss: 0.3266 - val_output_1_loss: 0.3218 - val_output_2_loss: 0.3705 - val_output_1_root_mean_squared_error: 0.5672 - val_output_2_root_mean_squared_error: 0.6087\n",
      "Epoch 23/100\n",
      "465/465 [==============================] - 1s 3ms/step - loss: 0.2970 - output_1_loss: 0.2912 - output_2_loss: 0.3487 - output_1_root_mean_squared_error: 0.5397 - output_2_root_mean_squared_error: 0.5905 - val_loss: 0.3210 - val_output_1_loss: 0.3160 - val_output_2_loss: 0.3657 - val_output_1_root_mean_squared_error: 0.5622 - val_output_2_root_mean_squared_error: 0.6047\n",
      "Epoch 24/100\n",
      "465/465 [==============================] - 1s 3ms/step - loss: 0.2985 - output_1_loss: 0.2929 - output_2_loss: 0.3492 - output_1_root_mean_squared_error: 0.5412 - output_2_root_mean_squared_error: 0.5909 - val_loss: 0.3194 - val_output_1_loss: 0.3146 - val_output_2_loss: 0.3626 - val_output_1_root_mean_squared_error: 0.5609 - val_output_2_root_mean_squared_error: 0.6022\n",
      "Epoch 25/100\n",
      "465/465 [==============================] - 1s 3ms/step - loss: 0.2983 - output_1_loss: 0.2926 - output_2_loss: 0.3494 - output_1_root_mean_squared_error: 0.5409 - output_2_root_mean_squared_error: 0.5911 - val_loss: 0.3111 - val_output_1_loss: 0.3061 - val_output_2_loss: 0.3562 - val_output_1_root_mean_squared_error: 0.5532 - val_output_2_root_mean_squared_error: 0.5968\n",
      "Epoch 26/100\n",
      "465/465 [==============================] - 1s 3ms/step - loss: 0.2964 - output_1_loss: 0.2909 - output_2_loss: 0.3454 - output_1_root_mean_squared_error: 0.5394 - output_2_root_mean_squared_error: 0.5877 - val_loss: 0.3124 - val_output_1_loss: 0.3072 - val_output_2_loss: 0.3599 - val_output_1_root_mean_squared_error: 0.5542 - val_output_2_root_mean_squared_error: 0.5999\n",
      "Epoch 27/100\n",
      "465/465 [==============================] - 1s 3ms/step - loss: 0.3015 - output_1_loss: 0.2955 - output_2_loss: 0.3553 - output_1_root_mean_squared_error: 0.5436 - output_2_root_mean_squared_error: 0.5960 - val_loss: 0.3207 - val_output_1_loss: 0.3156 - val_output_2_loss: 0.3671 - val_output_1_root_mean_squared_error: 0.5617 - val_output_2_root_mean_squared_error: 0.6059\n",
      "Epoch 28/100\n",
      "465/465 [==============================] - 2s 3ms/step - loss: 0.2949 - output_1_loss: 0.2893 - output_2_loss: 0.3453 - output_1_root_mean_squared_error: 0.5379 - output_2_root_mean_squared_error: 0.5876 - val_loss: 0.3267 - val_output_1_loss: 0.3218 - val_output_2_loss: 0.3708 - val_output_1_root_mean_squared_error: 0.5673 - val_output_2_root_mean_squared_error: 0.6089\n",
      "Epoch 29/100\n",
      "465/465 [==============================] - 1s 3ms/step - loss: 0.2963 - output_1_loss: 0.2910 - output_2_loss: 0.3438 - output_1_root_mean_squared_error: 0.5395 - output_2_root_mean_squared_error: 0.5864 - val_loss: 0.3223 - val_output_1_loss: 0.3172 - val_output_2_loss: 0.3686 - val_output_1_root_mean_squared_error: 0.5632 - val_output_2_root_mean_squared_error: 0.6071\n",
      "Epoch 30/100\n",
      "465/465 [==============================] - 1s 3ms/step - loss: 0.2920 - output_1_loss: 0.2865 - output_2_loss: 0.3410 - output_1_root_mean_squared_error: 0.5353 - output_2_root_mean_squared_error: 0.5839 - val_loss: 0.3309 - val_output_1_loss: 0.3258 - val_output_2_loss: 0.3771 - val_output_1_root_mean_squared_error: 0.5708 - val_output_2_root_mean_squared_error: 0.6141\n",
      "Epoch 31/100\n",
      "465/465 [==============================] - 1s 3ms/step - loss: 0.2921 - output_1_loss: 0.2867 - output_2_loss: 0.3406 - output_1_root_mean_squared_error: 0.5355 - output_2_root_mean_squared_error: 0.5836 - val_loss: 0.3238 - val_output_1_loss: 0.3183 - val_output_2_loss: 0.3734 - val_output_1_root_mean_squared_error: 0.5642 - val_output_2_root_mean_squared_error: 0.6111\n",
      "Epoch 32/100\n",
      "465/465 [==============================] - 2s 3ms/step - loss: 0.2928 - output_1_loss: 0.2874 - output_2_loss: 0.3407 - output_1_root_mean_squared_error: 0.5361 - output_2_root_mean_squared_error: 0.5837 - val_loss: 0.3161 - val_output_1_loss: 0.3110 - val_output_2_loss: 0.3614 - val_output_1_root_mean_squared_error: 0.5577 - val_output_2_root_mean_squared_error: 0.6012\n",
      "Epoch 33/100\n",
      "465/465 [==============================] - 1s 3ms/step - loss: 0.2959 - output_1_loss: 0.2907 - output_2_loss: 0.3428 - output_1_root_mean_squared_error: 0.5392 - output_2_root_mean_squared_error: 0.5855 - val_loss: 0.3087 - val_output_1_loss: 0.3042 - val_output_2_loss: 0.3492 - val_output_1_root_mean_squared_error: 0.5516 - val_output_2_root_mean_squared_error: 0.5909\n",
      "Epoch 34/100\n",
      "465/465 [==============================] - 1s 3ms/step - loss: 0.2909 - output_1_loss: 0.2858 - output_2_loss: 0.3368 - output_1_root_mean_squared_error: 0.5346 - output_2_root_mean_squared_error: 0.5804 - val_loss: 0.3349 - val_output_1_loss: 0.3300 - val_output_2_loss: 0.3794 - val_output_1_root_mean_squared_error: 0.5744 - val_output_2_root_mean_squared_error: 0.6160\n",
      "Epoch 35/100\n",
      "465/465 [==============================] - 1s 3ms/step - loss: 0.2909 - output_1_loss: 0.2857 - output_2_loss: 0.3376 - output_1_root_mean_squared_error: 0.5345 - output_2_root_mean_squared_error: 0.5810 - val_loss: 0.3176 - val_output_1_loss: 0.3129 - val_output_2_loss: 0.3600 - val_output_1_root_mean_squared_error: 0.5594 - val_output_2_root_mean_squared_error: 0.6000\n",
      "Epoch 36/100\n",
      "465/465 [==============================] - 1s 3ms/step - loss: 0.2890 - output_1_loss: 0.2839 - output_2_loss: 0.3351 - output_1_root_mean_squared_error: 0.5328 - output_2_root_mean_squared_error: 0.5789 - val_loss: 0.3191 - val_output_1_loss: 0.3142 - val_output_2_loss: 0.3634 - val_output_1_root_mean_squared_error: 0.5605 - val_output_2_root_mean_squared_error: 0.6028\n",
      "Epoch 37/100\n",
      "465/465 [==============================] - 1s 3ms/step - loss: 0.2879 - output_1_loss: 0.2827 - output_2_loss: 0.3347 - output_1_root_mean_squared_error: 0.5317 - output_2_root_mean_squared_error: 0.5786 - val_loss: 0.3159 - val_output_1_loss: 0.3113 - val_output_2_loss: 0.3577 - val_output_1_root_mean_squared_error: 0.5579 - val_output_2_root_mean_squared_error: 0.5981\n",
      "Epoch 38/100\n",
      "465/465 [==============================] - 1s 3ms/step - loss: 0.2888 - output_1_loss: 0.2837 - output_2_loss: 0.3347 - output_1_root_mean_squared_error: 0.5326 - output_2_root_mean_squared_error: 0.5785 - val_loss: 0.3213 - val_output_1_loss: 0.3174 - val_output_2_loss: 0.3562 - val_output_1_root_mean_squared_error: 0.5634 - val_output_2_root_mean_squared_error: 0.5968\n",
      "Epoch 39/100\n",
      "465/465 [==============================] - 1s 3ms/step - loss: 0.2898 - output_1_loss: 0.2847 - output_2_loss: 0.3358 - output_1_root_mean_squared_error: 0.5336 - output_2_root_mean_squared_error: 0.5795 - val_loss: 0.3133 - val_output_1_loss: 0.3089 - val_output_2_loss: 0.3534 - val_output_1_root_mean_squared_error: 0.5558 - val_output_2_root_mean_squared_error: 0.5945\n",
      "Epoch 40/100\n",
      "465/465 [==============================] - 1s 3ms/step - loss: 0.2872 - output_1_loss: 0.2821 - output_2_loss: 0.3328 - output_1_root_mean_squared_error: 0.5311 - output_2_root_mean_squared_error: 0.5769 - val_loss: 0.3103 - val_output_1_loss: 0.3054 - val_output_2_loss: 0.3542 - val_output_1_root_mean_squared_error: 0.5527 - val_output_2_root_mean_squared_error: 0.5951\n",
      "Epoch 41/100\n",
      "465/465 [==============================] - 2s 3ms/step - loss: 0.2890 - output_1_loss: 0.2840 - output_2_loss: 0.3340 - output_1_root_mean_squared_error: 0.5329 - output_2_root_mean_squared_error: 0.5780 - val_loss: 0.3054 - val_output_1_loss: 0.3007 - val_output_2_loss: 0.3479 - val_output_1_root_mean_squared_error: 0.5484 - val_output_2_root_mean_squared_error: 0.5899\n",
      "Epoch 42/100\n",
      "465/465 [==============================] - 1s 3ms/step - loss: 0.2878 - output_1_loss: 0.2828 - output_2_loss: 0.3328 - output_1_root_mean_squared_error: 0.5318 - output_2_root_mean_squared_error: 0.5769 - val_loss: 0.3106 - val_output_1_loss: 0.3059 - val_output_2_loss: 0.3533 - val_output_1_root_mean_squared_error: 0.5531 - val_output_2_root_mean_squared_error: 0.5944\n",
      "Epoch 43/100\n",
      "465/465 [==============================] - 1s 3ms/step - loss: 0.2873 - output_1_loss: 0.2822 - output_2_loss: 0.3333 - output_1_root_mean_squared_error: 0.5313 - output_2_root_mean_squared_error: 0.5773 - val_loss: 0.3140 - val_output_1_loss: 0.3091 - val_output_2_loss: 0.3586 - val_output_1_root_mean_squared_error: 0.5559 - val_output_2_root_mean_squared_error: 0.5988\n",
      "Epoch 44/100\n",
      "465/465 [==============================] - 1s 3ms/step - loss: 0.2854 - output_1_loss: 0.2802 - output_2_loss: 0.3318 - output_1_root_mean_squared_error: 0.5294 - output_2_root_mean_squared_error: 0.5760 - val_loss: 0.3056 - val_output_1_loss: 0.3013 - val_output_2_loss: 0.3450 - val_output_1_root_mean_squared_error: 0.5489 - val_output_2_root_mean_squared_error: 0.5873\n",
      "Epoch 45/100\n",
      "465/465 [==============================] - 1s 3ms/step - loss: 0.2831 - output_1_loss: 0.2779 - output_2_loss: 0.3295 - output_1_root_mean_squared_error: 0.5272 - output_2_root_mean_squared_error: 0.5740 - val_loss: 0.3098 - val_output_1_loss: 0.3050 - val_output_2_loss: 0.3523 - val_output_1_root_mean_squared_error: 0.5523 - val_output_2_root_mean_squared_error: 0.5936\n",
      "Epoch 46/100\n",
      "465/465 [==============================] - 2s 3ms/step - loss: 0.2835 - output_1_loss: 0.2784 - output_2_loss: 0.3294 - output_1_root_mean_squared_error: 0.5277 - output_2_root_mean_squared_error: 0.5739 - val_loss: 0.3048 - val_output_1_loss: 0.3005 - val_output_2_loss: 0.3432 - val_output_1_root_mean_squared_error: 0.5482 - val_output_2_root_mean_squared_error: 0.5859\n",
      "Epoch 47/100\n",
      "465/465 [==============================] - 1s 3ms/step - loss: 0.2827 - output_1_loss: 0.2777 - output_2_loss: 0.3277 - output_1_root_mean_squared_error: 0.5270 - output_2_root_mean_squared_error: 0.5725 - val_loss: 0.3106 - val_output_1_loss: 0.3061 - val_output_2_loss: 0.3509 - val_output_1_root_mean_squared_error: 0.5533 - val_output_2_root_mean_squared_error: 0.5924\n",
      "Epoch 48/100\n",
      "465/465 [==============================] - 2s 3ms/step - loss: 0.2837 - output_1_loss: 0.2788 - output_2_loss: 0.3285 - output_1_root_mean_squared_error: 0.5280 - output_2_root_mean_squared_error: 0.5731 - val_loss: 0.3019 - val_output_1_loss: 0.2973 - val_output_2_loss: 0.3427 - val_output_1_root_mean_squared_error: 0.5453 - val_output_2_root_mean_squared_error: 0.5854\n",
      "Epoch 49/100\n",
      "465/465 [==============================] - 2s 3ms/step - loss: 0.2807 - output_1_loss: 0.2757 - output_2_loss: 0.3257 - output_1_root_mean_squared_error: 0.5250 - output_2_root_mean_squared_error: 0.5707 - val_loss: 0.3048 - val_output_1_loss: 0.3002 - val_output_2_loss: 0.3462 - val_output_1_root_mean_squared_error: 0.5479 - val_output_2_root_mean_squared_error: 0.5884\n",
      "Epoch 50/100\n",
      "465/465 [==============================] - 2s 3ms/step - loss: 0.2816 - output_1_loss: 0.2767 - output_2_loss: 0.3261 - output_1_root_mean_squared_error: 0.5260 - output_2_root_mean_squared_error: 0.5710 - val_loss: 0.3050 - val_output_1_loss: 0.3007 - val_output_2_loss: 0.3436 - val_output_1_root_mean_squared_error: 0.5483 - val_output_2_root_mean_squared_error: 0.5862\n",
      "Epoch 51/100\n",
      "465/465 [==============================] - 2s 3ms/step - loss: 0.2810 - output_1_loss: 0.2759 - output_2_loss: 0.3269 - output_1_root_mean_squared_error: 0.5253 - output_2_root_mean_squared_error: 0.5717 - val_loss: 0.3097 - val_output_1_loss: 0.3048 - val_output_2_loss: 0.3531 - val_output_1_root_mean_squared_error: 0.5521 - val_output_2_root_mean_squared_error: 0.5943\n",
      "Epoch 52/100\n",
      "465/465 [==============================] - 2s 3ms/step - loss: 0.2834 - output_1_loss: 0.2785 - output_2_loss: 0.3273 - output_1_root_mean_squared_error: 0.5277 - output_2_root_mean_squared_error: 0.5721 - val_loss: 0.3121 - val_output_1_loss: 0.3074 - val_output_2_loss: 0.3548 - val_output_1_root_mean_squared_error: 0.5544 - val_output_2_root_mean_squared_error: 0.5956\n",
      "Epoch 53/100\n",
      "465/465 [==============================] - 1s 3ms/step - loss: 0.2798 - output_1_loss: 0.2749 - output_2_loss: 0.3241 - output_1_root_mean_squared_error: 0.5243 - output_2_root_mean_squared_error: 0.5693 - val_loss: 0.3042 - val_output_1_loss: 0.2998 - val_output_2_loss: 0.3432 - val_output_1_root_mean_squared_error: 0.5476 - val_output_2_root_mean_squared_error: 0.5859\n",
      "Epoch 54/100\n",
      "465/465 [==============================] - 1s 3ms/step - loss: 0.2802 - output_1_loss: 0.2753 - output_2_loss: 0.3246 - output_1_root_mean_squared_error: 0.5247 - output_2_root_mean_squared_error: 0.5698 - val_loss: 0.3038 - val_output_1_loss: 0.2995 - val_output_2_loss: 0.3423 - val_output_1_root_mean_squared_error: 0.5473 - val_output_2_root_mean_squared_error: 0.5851\n",
      "Epoch 55/100\n",
      "465/465 [==============================] - 1s 3ms/step - loss: 0.2789 - output_1_loss: 0.2740 - output_2_loss: 0.3230 - output_1_root_mean_squared_error: 0.5235 - output_2_root_mean_squared_error: 0.5683 - val_loss: 0.3031 - val_output_1_loss: 0.2989 - val_output_2_loss: 0.3407 - val_output_1_root_mean_squared_error: 0.5468 - val_output_2_root_mean_squared_error: 0.5837\n",
      "Epoch 56/100\n",
      "465/465 [==============================] - 1s 3ms/step - loss: 0.2798 - output_1_loss: 0.2749 - output_2_loss: 0.3245 - output_1_root_mean_squared_error: 0.5243 - output_2_root_mean_squared_error: 0.5696 - val_loss: 0.3062 - val_output_1_loss: 0.3019 - val_output_2_loss: 0.3451 - val_output_1_root_mean_squared_error: 0.5494 - val_output_2_root_mean_squared_error: 0.5874\n",
      "Epoch 57/100\n",
      "465/465 [==============================] - 2s 3ms/step - loss: 0.2811 - output_1_loss: 0.2764 - output_2_loss: 0.3238 - output_1_root_mean_squared_error: 0.5257 - output_2_root_mean_squared_error: 0.5690 - val_loss: 0.3284 - val_output_1_loss: 0.3230 - val_output_2_loss: 0.3768 - val_output_1_root_mean_squared_error: 0.5684 - val_output_2_root_mean_squared_error: 0.6139\n",
      "Epoch 58/100\n",
      "465/465 [==============================] - 2s 3ms/step - loss: 0.2799 - output_1_loss: 0.2750 - output_2_loss: 0.3242 - output_1_root_mean_squared_error: 0.5244 - output_2_root_mean_squared_error: 0.5694 - val_loss: 0.3084 - val_output_1_loss: 0.3041 - val_output_2_loss: 0.3466 - val_output_1_root_mean_squared_error: 0.5515 - val_output_2_root_mean_squared_error: 0.5887\n"
     ]
    }
   ],
   "source": [
    "early_stopping_cb = tf.keras.callbacks.EarlyStopping(patience=10,\n",
    "                                                     restore_best_weights=True)\n",
    "history = model1.fit(\n",
    "    (X_train_wide, X_train_deep), (y_train, y_train), epochs=100,\n",
    "    validation_data=((X_valid_wide, X_valid_deep), (y_valid, y_valid)),\n",
    "    callbacks=[checkpoint_cb, early_stopping_cb])"
   ]
  },
  {
   "cell_type": "code",
   "execution_count": 22,
   "metadata": {},
   "outputs": [],
   "source": [
    "class PrintValTrainRatioCallback(tf.keras.callbacks.Callback):\n",
    "    def on_epoch_end(self, epoch, logs):\n",
    "        ratio = logs[\"val_loss\"] / logs[\"loss\"]\n",
    "        print(f\"Epoch={epoch}, val/train={ratio:.2f}\")"
   ]
  },
  {
   "cell_type": "code",
   "execution_count": 23,
   "metadata": {},
   "outputs": [
    {
     "name": "stdout",
     "output_type": "stream",
     "text": [
      "Epoch=0, val/train=1.10\n",
      "Epoch=1, val/train=1.10\n",
      "Epoch=2, val/train=1.09\n",
      "Epoch=3, val/train=1.12\n",
      "Epoch=4, val/train=1.09\n",
      "Epoch=5, val/train=1.10\n",
      "Epoch=6, val/train=1.09\n",
      "Epoch=7, val/train=1.08\n",
      "Epoch=8, val/train=1.11\n",
      "Epoch=9, val/train=1.11\n"
     ]
    }
   ],
   "source": [
    "val_train_ratio_cb = PrintValTrainRatioCallback()\n",
    "history = model1.fit(\n",
    "    (X_train_wide, X_train_deep), (y_train, y_train), epochs=10,\n",
    "    validation_data=((X_valid_wide, X_valid_deep), (y_valid, y_valid)),\n",
    "    callbacks=[val_train_ratio_cb], verbose=0)"
   ]
  },
  {
   "cell_type": "markdown",
   "metadata": {},
   "source": [
    "## Using TensorBoard for Visualization"
   ]
  },
  {
   "cell_type": "markdown",
   "metadata": {},
   "source": [
    "TensorBoard is preinstalled on Colab, but not the `tensorboard-plugin-profile`, so let's install it:"
   ]
  },
  {
   "cell_type": "code",
   "execution_count": 35,
   "metadata": {},
   "outputs": [
    {
     "name": "stderr",
     "output_type": "stream",
     "text": [
      "����: ���μ��� \"17472\"��(��) ã�� �� �����ϴ�.\n"
     ]
    }
   ],
   "source": [
    "# 기존 TensorBoard 프로세스 종료 (Windows)\n",
    "!taskkill /F /PID 17472"
   ]
  },
  {
   "cell_type": "code",
   "execution_count": 36,
   "metadata": {},
   "outputs": [],
   "source": [
    "if \"google.colab\" in sys.modules:  # extra code\n",
    "    %pip install -q -U tensorboard-plugin-profile"
   ]
  },
  {
   "cell_type": "code",
   "execution_count": 37,
   "metadata": {},
   "outputs": [],
   "source": [
    "shutil.rmtree(\"my_logs\", ignore_errors=True)"
   ]
  },
  {
   "cell_type": "code",
   "execution_count": 38,
   "metadata": {},
   "outputs": [],
   "source": [
    "from pathlib import Path\n",
    "from time import strftime\n",
    "\n",
    "def get_run_logdir(root_logdir=\"my_logs\"):\n",
    "    return Path(root_logdir) / strftime(\"run_%Y_%m_%d_%H_%M_%S\")\n",
    "\n",
    "run_logdir = get_run_logdir()"
   ]
  },
  {
   "cell_type": "code",
   "execution_count": 39,
   "metadata": {},
   "outputs": [],
   "source": [
    "# extra code – builds the first regression model we used earlier\n",
    "tf.keras.backend.clear_session()\n",
    "tf.random.set_seed(42)\n",
    "norm_layer = tf.keras.layers.Normalization(input_shape=X_train.shape[1:])\n",
    "model = tf.keras.Sequential([\n",
    "    norm_layer,\n",
    "    tf.keras.layers.Dense(30, activation=\"relu\"),\n",
    "    tf.keras.layers.Dense(30, activation=\"relu\"),\n",
    "    tf.keras.layers.Dense(1)\n",
    "])\n",
    "optimizer = tf.keras.optimizers.SGD(learning_rate=1e-3)\n",
    "model.compile(loss=\"mse\", optimizer=optimizer, metrics=[\"RootMeanSquaredError\"])\n",
    "norm_layer.adapt(X_train)"
   ]
  },
  {
   "cell_type": "code",
   "execution_count": 40,
   "metadata": {},
   "outputs": [
    {
     "name": "stdout",
     "output_type": "stream",
     "text": [
      "Epoch 1/20\n",
      "465/465 [==============================] - 2s 3ms/step - loss: 1.7783 - root_mean_squared_error: 1.3335 - val_loss: 0.8389 - val_root_mean_squared_error: 0.9159\n",
      "Epoch 2/20\n",
      "465/465 [==============================] - 1s 2ms/step - loss: 0.7267 - root_mean_squared_error: 0.8525 - val_loss: 0.6542 - val_root_mean_squared_error: 0.8088\n",
      "Epoch 3/20\n",
      "465/465 [==============================] - 1s 2ms/step - loss: 0.6302 - root_mean_squared_error: 0.7938 - val_loss: 0.6213 - val_root_mean_squared_error: 0.7882\n",
      "Epoch 4/20\n",
      "465/465 [==============================] - 1s 2ms/step - loss: 0.6026 - root_mean_squared_error: 0.7763 - val_loss: 0.5973 - val_root_mean_squared_error: 0.7729\n",
      "Epoch 5/20\n",
      "465/465 [==============================] - 1s 2ms/step - loss: 0.5787 - root_mean_squared_error: 0.7607 - val_loss: 0.5783 - val_root_mean_squared_error: 0.7605\n",
      "Epoch 6/20\n",
      "465/465 [==============================] - 1s 2ms/step - loss: 0.5606 - root_mean_squared_error: 0.7487 - val_loss: 0.5602 - val_root_mean_squared_error: 0.7485\n",
      "Epoch 7/20\n",
      "465/465 [==============================] - 1s 2ms/step - loss: 0.5435 - root_mean_squared_error: 0.7372 - val_loss: 0.5459 - val_root_mean_squared_error: 0.7389\n",
      "Epoch 8/20\n",
      "465/465 [==============================] - 1s 2ms/step - loss: 0.5286 - root_mean_squared_error: 0.7270 - val_loss: 0.5327 - val_root_mean_squared_error: 0.7298\n",
      "Epoch 9/20\n",
      "465/465 [==============================] - 1s 2ms/step - loss: 0.5156 - root_mean_squared_error: 0.7181 - val_loss: 0.5207 - val_root_mean_squared_error: 0.7216\n",
      "Epoch 10/20\n",
      "465/465 [==============================] - 1s 2ms/step - loss: 0.5033 - root_mean_squared_error: 0.7094 - val_loss: 0.5089 - val_root_mean_squared_error: 0.7134\n",
      "Epoch 11/20\n",
      "465/465 [==============================] - 1s 2ms/step - loss: 0.4926 - root_mean_squared_error: 0.7019 - val_loss: 0.4983 - val_root_mean_squared_error: 0.7059\n",
      "Epoch 12/20\n",
      "465/465 [==============================] - 1s 2ms/step - loss: 0.4828 - root_mean_squared_error: 0.6949 - val_loss: 0.4902 - val_root_mean_squared_error: 0.7002\n",
      "Epoch 13/20\n",
      "465/465 [==============================] - 1s 2ms/step - loss: 0.4741 - root_mean_squared_error: 0.6886 - val_loss: 0.4809 - val_root_mean_squared_error: 0.6934\n",
      "Epoch 14/20\n",
      "465/465 [==============================] - 1s 2ms/step - loss: 0.4660 - root_mean_squared_error: 0.6826 - val_loss: 0.4739 - val_root_mean_squared_error: 0.6884\n",
      "Epoch 15/20\n",
      "465/465 [==============================] - 1s 2ms/step - loss: 0.4589 - root_mean_squared_error: 0.6774 - val_loss: 0.4662 - val_root_mean_squared_error: 0.6828\n",
      "Epoch 16/20\n",
      "465/465 [==============================] - 1s 2ms/step - loss: 0.4525 - root_mean_squared_error: 0.6727 - val_loss: 0.4590 - val_root_mean_squared_error: 0.6775\n",
      "Epoch 17/20\n",
      "465/465 [==============================] - 1s 2ms/step - loss: 0.4466 - root_mean_squared_error: 0.6683 - val_loss: 0.4543 - val_root_mean_squared_error: 0.6740\n",
      "Epoch 18/20\n",
      "465/465 [==============================] - 1s 2ms/step - loss: 0.4418 - root_mean_squared_error: 0.6647 - val_loss: 0.4488 - val_root_mean_squared_error: 0.6699\n",
      "Epoch 19/20\n",
      "465/465 [==============================] - 1s 2ms/step - loss: 0.4369 - root_mean_squared_error: 0.6610 - val_loss: 0.4445 - val_root_mean_squared_error: 0.6667\n",
      "Epoch 20/20\n",
      "465/465 [==============================] - 1s 2ms/step - loss: 0.4330 - root_mean_squared_error: 0.6580 - val_loss: 0.4408 - val_root_mean_squared_error: 0.6639\n"
     ]
    }
   ],
   "source": [
    "tensorboard_cb = tf.keras.callbacks.TensorBoard(run_logdir, profile_batch=(100, 200))\n",
    "history = model.fit(X_train, y_train, epochs=20,\n",
    "                    validation_data=(X_valid, y_valid),\n",
    "                    callbacks=[tensorboard_cb])"
   ]
  },
  {
   "cell_type": "code",
   "execution_count": 41,
   "metadata": {},
   "outputs": [
    {
     "name": "stdout",
     "output_type": "stream",
     "text": [
      "my_logs\n",
      "  run_2025_03_30_20_58_31\n",
      "    events.out.tfevents.1743335913.CRONG.profile-empty\n",
      "    plugins\n",
      "      profile\n",
      "        2025_03_30_11_58_33\n",
      "          CRONG.input_pipeline.pb\n",
      "          CRONG.kernel_stats.pb\n",
      "          CRONG.memory_profile.json.gz\n",
      "          CRONG.overview_page.pb\n",
      "          CRONG.tensorflow_stats.pb\n",
      "          CRONG.trace.json.gz\n",
      "          CRONG.xplane.pb\n",
      "    train\n",
      "      events.out.tfevents.1743335912.CRONG.25432.4.v2\n",
      "    validation\n",
      "      events.out.tfevents.1743335914.CRONG.25432.5.v2\n"
     ]
    }
   ],
   "source": [
    "print(\"my_logs\")\n",
    "for path in sorted(Path(\"my_logs\").glob(\"**/*\")):\n",
    "    print(\"  \" * (len(path.parts) - 1) + path.parts[-1])"
   ]
  },
  {
   "cell_type": "code",
   "execution_count": 42,
   "metadata": {},
   "outputs": [
    {
     "data": {
      "text/plain": [
       "WindowsPath('my_logs/run_2025_03_30_20_58_52')"
      ]
     },
     "execution_count": 42,
     "metadata": {},
     "output_type": "execute_result"
    }
   ],
   "source": [
    "run_logdir2 = get_run_logdir()\n",
    "run_logdir2"
   ]
  },
  {
   "cell_type": "code",
   "execution_count": 43,
   "metadata": {},
   "outputs": [],
   "source": [
    "tf.keras.backend.clear_session()\n",
    "tf.random.set_seed(42)\n",
    "norm_layer = tf.keras.layers.Normalization(input_shape=X_train.shape[1:])\n",
    "model = tf.keras.Sequential([\n",
    "    norm_layer,\n",
    "    tf.keras.layers.Dense(30, activation=\"relu\"),\n",
    "    tf.keras.layers.Dense(30, activation=\"relu\"),\n",
    "    tf.keras.layers.Dense(1)\n",
    "])\n",
    "optimizer = tf.keras.optimizers.SGD(learning_rate=2e-3)\n",
    "model.compile(loss=\"mse\", optimizer=optimizer, metrics=[\"RootMeanSquaredError\"])\n",
    "norm_layer.adapt(X_train)"
   ]
  },
  {
   "cell_type": "code",
   "execution_count": 44,
   "metadata": {
    "scrolled": false
   },
   "outputs": [
    {
     "name": "stdout",
     "output_type": "stream",
     "text": [
      "Epoch 1/20\n",
      "465/465 [==============================] - 1s 2ms/step - loss: 1.4021 - root_mean_squared_error: 1.1841 - val_loss: 0.7190 - val_root_mean_squared_error: 0.8479\n",
      "Epoch 2/20\n",
      "465/465 [==============================] - 1s 2ms/step - loss: 0.6588 - root_mean_squared_error: 0.8117 - val_loss: 0.6021 - val_root_mean_squared_error: 0.7760\n",
      "Epoch 3/20\n",
      "465/465 [==============================] - 1s 2ms/step - loss: 0.5717 - root_mean_squared_error: 0.7561 - val_loss: 0.5474 - val_root_mean_squared_error: 0.7399\n",
      "Epoch 4/20\n",
      "465/465 [==============================] - 1s 2ms/step - loss: 0.5202 - root_mean_squared_error: 0.7213 - val_loss: 0.5120 - val_root_mean_squared_error: 0.7155\n",
      "Epoch 5/20\n",
      "465/465 [==============================] - 1s 2ms/step - loss: 0.4892 - root_mean_squared_error: 0.6994 - val_loss: 0.4953 - val_root_mean_squared_error: 0.7037\n",
      "Epoch 6/20\n",
      "465/465 [==============================] - 1s 2ms/step - loss: 0.4760 - root_mean_squared_error: 0.6899 - val_loss: 0.4728 - val_root_mean_squared_error: 0.6876\n",
      "Epoch 7/20\n",
      "465/465 [==============================] - 1s 2ms/step - loss: 0.4603 - root_mean_squared_error: 0.6784 - val_loss: 0.4639 - val_root_mean_squared_error: 0.6811\n",
      "Epoch 8/20\n",
      "465/465 [==============================] - 1s 2ms/step - loss: 0.4519 - root_mean_squared_error: 0.6723 - val_loss: 0.4571 - val_root_mean_squared_error: 0.6761\n",
      "Epoch 9/20\n",
      "465/465 [==============================] - 1s 2ms/step - loss: 0.4427 - root_mean_squared_error: 0.6653 - val_loss: 0.4513 - val_root_mean_squared_error: 0.6718\n",
      "Epoch 10/20\n",
      "465/465 [==============================] - 1s 2ms/step - loss: 0.4358 - root_mean_squared_error: 0.6602 - val_loss: 0.4457 - val_root_mean_squared_error: 0.6676\n",
      "Epoch 11/20\n",
      "465/465 [==============================] - 1s 2ms/step - loss: 0.4292 - root_mean_squared_error: 0.6551 - val_loss: 0.4392 - val_root_mean_squared_error: 0.6627\n",
      "Epoch 12/20\n",
      "465/465 [==============================] - 1s 2ms/step - loss: 0.4252 - root_mean_squared_error: 0.6520 - val_loss: 0.4376 - val_root_mean_squared_error: 0.6615\n",
      "Epoch 13/20\n",
      "465/465 [==============================] - 1s 2ms/step - loss: 0.4201 - root_mean_squared_error: 0.6481 - val_loss: 0.4317 - val_root_mean_squared_error: 0.6570\n",
      "Epoch 14/20\n",
      "465/465 [==============================] - 1s 2ms/step - loss: 0.4156 - root_mean_squared_error: 0.6447 - val_loss: 0.4286 - val_root_mean_squared_error: 0.6547\n",
      "Epoch 15/20\n",
      "465/465 [==============================] - 1s 2ms/step - loss: 0.4116 - root_mean_squared_error: 0.6416 - val_loss: 0.4247 - val_root_mean_squared_error: 0.6517\n",
      "Epoch 16/20\n",
      "465/465 [==============================] - 1s 2ms/step - loss: 0.4078 - root_mean_squared_error: 0.6386 - val_loss: 0.4200 - val_root_mean_squared_error: 0.6481\n",
      "Epoch 17/20\n",
      "465/465 [==============================] - 1s 2ms/step - loss: 0.4039 - root_mean_squared_error: 0.6355 - val_loss: 0.4166 - val_root_mean_squared_error: 0.6454\n",
      "Epoch 18/20\n",
      "465/465 [==============================] - 1s 2ms/step - loss: 0.4006 - root_mean_squared_error: 0.6329 - val_loss: 0.4139 - val_root_mean_squared_error: 0.6433\n",
      "Epoch 19/20\n",
      "465/465 [==============================] - 1s 2ms/step - loss: 0.3976 - root_mean_squared_error: 0.6306 - val_loss: 0.4114 - val_root_mean_squared_error: 0.6414\n",
      "Epoch 20/20\n",
      "465/465 [==============================] - 1s 2ms/step - loss: 0.3946 - root_mean_squared_error: 0.6282 - val_loss: 0.4093 - val_root_mean_squared_error: 0.6398\n"
     ]
    }
   ],
   "source": [
    "tensorboard_cb = keras.callbacks.TensorBoard(run_logdir2)\n",
    "history = model.fit(X_train, y_train, epochs=20,\n",
    "                    validation_data=(X_valid, y_valid),\n",
    "                    callbacks=[checkpoint_cb, tensorboard_cb])"
   ]
  },
  {
   "cell_type": "code",
   "execution_count": 48,
   "metadata": {},
   "outputs": [
    {
     "name": "stdout",
     "output_type": "stream",
     "text": [
      "The tensorboard extension is already loaded. To reload it, use:\n",
      "  %reload_ext tensorboard\n"
     ]
    },
    {
     "data": {
      "text/plain": [
       "Reusing TensorBoard on port 6006 (pid 23360), started 0:00:07 ago. (Use '!kill 23360' to kill it.)"
      ]
     },
     "metadata": {},
     "output_type": "display_data"
    },
    {
     "data": {
      "text/html": [
       "\n",
       "      <iframe id=\"tensorboard-frame-98fee32431226337\" width=\"100%\" height=\"800\" frameborder=\"0\">\n",
       "      </iframe>\n",
       "      <script>\n",
       "        (function() {\n",
       "          const frame = document.getElementById(\"tensorboard-frame-98fee32431226337\");\n",
       "          const url = new URL(\"http://localhost\");\n",
       "          const port = 6006;\n",
       "          if (port) {\n",
       "            url.port = port;\n",
       "          }\n",
       "          frame.src = url;\n",
       "        })();\n",
       "      </script>\n",
       "    "
      ],
      "text/plain": [
       "<IPython.core.display.HTML object>"
      ]
     },
     "metadata": {},
     "output_type": "display_data"
    }
   ],
   "source": [
    "%load_ext tensorboard\n",
    "%tensorboard --logdir=./my_logs/\n",
    "%reload_ext tensorboard"
   ]
  },
  {
   "cell_type": "markdown",
   "metadata": {},
   "source": [
    "Notice how TensorBoard now sees two runs, and you can compare the learning curves."
   ]
  },
  {
   "cell_type": "markdown",
   "metadata": {},
   "source": [
    "## ### ==P2. Tensorboard==\n",
    " #### 위의 tensorboard에서 한쌍의 train/validation만 선택하고 smoothing slider를 왼쪽으로 움직여 최소값으로 한후 변화를 관찰한다.\n",
    " #### loss와 rmse값의 변화를 관찰하고 학습결과를 분석하시오\n",
    " #### Answer:\n",
    "\n",
    "Smoothing을 최소화하고 관찰한 결과:\n",
    "\n",
    "1. **Loss 변화**: \n",
    "   - 초기에 급격히 감소하다가 5 에포크 이후부터 완만하게 감소한다.\n",
    "   - Validation loss는 0.67에서 시작해 20 에포크에서 0.44까지 낮아진다.\n",
    "\n",
    "2. **RMSE 변화**:\n",
    "   - 초기 RMSE는 0.82에서 시작하여 꾸준히 감소한다.\n",
    "   - 20 에포크에서는 0.66까지 낮아진다.\n",
    "\n",
    "3. **Train과 Validation 비교**:\n",
    "   - 두 곡선이 유사한 패턴으로 감소하며 큰 격차가 없다.\n",
    "   - 이는 모델이 과적합 없이 잘 일반화되고 있음을 보여준다.\n",
    "\n",
    "4. **Smoothing 효과**:\n",
    "   - Smoothing을 0으로 설정해도 곡선이 부드럽다.\n",
    "   - 이는 학습이 안정적으로 진행되었음을 의미한다."
   ]
  },
  {
   "cell_type": "code",
   "execution_count": 49,
   "metadata": {},
   "outputs": [
    {
     "data": {
      "text/html": [
       "<a href=\"http://localhost:6006/\">http://localhost:6006/</a>"
      ],
      "text/plain": [
       "<IPython.core.display.HTML object>"
      ]
     },
     "metadata": {},
     "output_type": "display_data"
    }
   ],
   "source": [
    "# extra code\n",
    "\n",
    "if \"google.colab\" in sys.modules:\n",
    "    from google.colab import output\n",
    "\n",
    "    output.serve_kernel_port_as_window(6006)\n",
    "else:\n",
    "    from IPython.display import display, HTML\n",
    "\n",
    "    display(HTML('<a href=\"http://localhost:6006/\">http://localhost:6006/</a>'))\n",
    "    \n",
    "# Copy the url below, and paste it on a new tab    "
   ]
  },
  {
   "cell_type": "markdown",
   "metadata": {},
   "source": [
    "You can use also visualize histograms, images, text, and even listen to audio using TensorBoard:"
   ]
  },
  {
   "cell_type": "code",
   "execution_count": 50,
   "metadata": {},
   "outputs": [],
   "source": [
    "test_logdir = get_run_logdir()\n",
    "writer = tf.summary.create_file_writer(str(test_logdir))\n",
    "with writer.as_default():\n",
    "    for step in range(1, 1000 + 1):\n",
    "        tf.summary.scalar(\"my_scalar\", np.sin(step / 10), step=step)\n",
    "        \n",
    "        data = (np.random.randn(100) + 2) * step / 100  # gets larger\n",
    "        tf.summary.histogram(\"my_hist\", data, buckets=50, step=step)\n",
    "        \n",
    "        images = np.random.rand(2, 32, 32, 3) * step / 1000  # gets brighter\n",
    "        tf.summary.image(\"my_images\", images, step=step)\n",
    "        \n",
    "        texts = [\"The step is \" + str(step), \"Its square is \" + str(step ** 2)]\n",
    "        tf.summary.text(\"my_text\", texts, step=step)\n",
    "        \n",
    "        sine_wave = tf.math.sin(tf.range(12000) / 48000 * 2 * np.pi * step)\n",
    "        audio = tf.reshape(tf.cast(sine_wave, tf.float32), [1, -1, 1])\n",
    "        tf.summary.audio(\"my_audio\", audio, sample_rate=48000, step=step)"
   ]
  },
  {
   "cell_type": "markdown",
   "metadata": {},
   "source": [
    "When you stop this Jupyter kernel (a.k.a. Runtime), it will automatically stop the TensorBoard server as well. Another way to stop the TensorBoard server is to kill it, if you are running on Linux or MacOSX. First, you need to find its process ID:"
   ]
  },
  {
   "cell_type": "code",
   "execution_count": 51,
   "metadata": {},
   "outputs": [
    {
     "name": "stdout",
     "output_type": "stream",
     "text": [
      "Known TensorBoard instances:\n",
      "  - port 6007: logdir ./my_logs (started 4:44:36 ago; pid 16756)\n",
      "  - port 6006: logdir ./my_logs (started 1 day, 1:48:34 ago; pid 17472)\n",
      "  - port 6006: logdir ./my_logs/ (started 0:06:13 ago; pid 23360)\n"
     ]
    }
   ],
   "source": [
    "# extra code – lists all running TensorBoard server instances\n",
    "\n",
    "from tensorboard import notebook\n",
    "\n",
    "notebook.list()"
   ]
  },
  {
   "cell_type": "markdown",
   "metadata": {},
   "source": [
    "# Fine-Tuning Neural Network Hyperparameters"
   ]
  },
  {
   "cell_type": "markdown",
   "metadata": {},
   "source": [
    "In this section we'll use the Fashion MNIST dataset again:"
   ]
  },
  {
   "cell_type": "code",
   "execution_count": 63,
   "metadata": {},
   "outputs": [],
   "source": [
    "fashion_mnist = keras.datasets.fashion_mnist.load_data()\n",
    "(X_train_full, y_train_full), (X_test, y_test) = fashion_mnist\n",
    "X_train, y_train = X_train_full[:-5000], y_train_full[:-5000]\n",
    "X_valid, y_valid = X_train_full[-5000:], y_train_full[-5000:]"
   ]
  },
  {
   "cell_type": "code",
   "execution_count": 66,
   "metadata": {},
   "outputs": [],
   "source": [
    "keras.backend.clear_session()\n",
    "tf.random.set_seed(42)"
   ]
  },
  {
   "cell_type": "code",
   "execution_count": 61,
   "metadata": {},
   "outputs": [],
   "source": [
    "if \"google.colab\" in sys.modules:\n",
    "    %pip install -q -U keras_tuner"
   ]
  },
  {
   "cell_type": "code",
   "execution_count": 67,
   "metadata": {},
   "outputs": [],
   "source": [
    "import keras_tuner as kt\n",
    "\n",
    "def build_model(hp):\n",
    "    n_hidden = hp.Int(\"n_hidden\", min_value=0, max_value=8, default=2)\n",
    "    n_neurons = hp.Int(\"n_neurons\", min_value=16, max_value=256)\n",
    "    learning_rate = hp.Float(\"learning_rate\", min_value=1e-4, max_value=1e-2,\n",
    "                             sampling=\"log\")\n",
    "    optimizer = hp.Choice(\"optimizer\", values=[\"sgd\", \"adam\"])\n",
    "    if optimizer == \"sgd\":\n",
    "        optimizer = tf.keras.optimizers.SGD(learning_rate=learning_rate)\n",
    "    else:\n",
    "        optimizer = tf.keras.optimizers.Adam(learning_rate=learning_rate)\n",
    "\n",
    "    model = tf.keras.Sequential()\n",
    "    model.add(tf.keras.layers.Flatten())\n",
    "    for _ in range(n_hidden):\n",
    "        model.add(tf.keras.layers.Dense(n_neurons, activation=\"relu\"))\n",
    "    model.add(tf.keras.layers.Dense(10, activation=\"softmax\"))\n",
    "    model.compile(loss=\"sparse_categorical_crossentropy\", optimizer=optimizer,\n",
    "                  metrics=[\"accuracy\"])\n",
    "    return model"
   ]
  },
  {
   "cell_type": "code",
   "execution_count": 68,
   "metadata": {},
   "outputs": [
    {
     "name": "stdout",
     "output_type": "stream",
     "text": [
      "Trial 5 Complete [00h 00m 37s]\n",
      "val_accuracy: 0.8392000198364258\n",
      "\n",
      "Best val_accuracy So Far: 0.859000027179718\n",
      "Total elapsed time: 00h 03m 16s\n"
     ]
    }
   ],
   "source": [
    "random_search_tuner = kt.RandomSearch(\n",
    "    build_model, objective=\"val_accuracy\", max_trials=5, overwrite=True,\n",
    "    directory=\"my_fashion_mnist\", project_name=\"my_rnd_search\", seed=42)\n",
    "random_search_tuner.search(X_train, y_train, epochs=10,\n",
    "                           validation_data=(X_valid, y_valid))"
   ]
  },
  {
   "cell_type": "code",
   "execution_count": 69,
   "metadata": {},
   "outputs": [],
   "source": [
    "top3_models = random_search_tuner.get_best_models(num_models=3)\n",
    "best_model = top3_models[0]"
   ]
  },
  {
   "cell_type": "code",
   "execution_count": 70,
   "metadata": {},
   "outputs": [
    {
     "data": {
      "text/plain": [
       "{'n_hidden': 7,\n",
       " 'n_neurons': 100,\n",
       " 'learning_rate': 0.0012482904754698163,\n",
       " 'optimizer': 'sgd'}"
      ]
     },
     "execution_count": 70,
     "metadata": {},
     "output_type": "execute_result"
    }
   ],
   "source": [
    "top3_params = random_search_tuner.get_best_hyperparameters(num_trials=3)\n",
    "top3_params[0].values  # best hyperparameter values"
   ]
  },
  {
   "cell_type": "code",
   "execution_count": 71,
   "metadata": {},
   "outputs": [
    {
     "name": "stdout",
     "output_type": "stream",
     "text": [
      "Trial 1 summary\n",
      "Hyperparameters:\n",
      "n_hidden: 7\n",
      "n_neurons: 100\n",
      "learning_rate: 0.0012482904754698163\n",
      "optimizer: sgd\n",
      "Score: 0.859000027179718\n"
     ]
    }
   ],
   "source": [
    "best_trial = random_search_tuner.oracle.get_best_trials(num_trials=1)[0]\n",
    "best_trial.summary()"
   ]
  },
  {
   "cell_type": "code",
   "execution_count": 72,
   "metadata": {},
   "outputs": [
    {
     "data": {
      "text/plain": [
       "0.859000027179718"
      ]
     },
     "execution_count": 72,
     "metadata": {},
     "output_type": "execute_result"
    }
   ],
   "source": [
    "best_trial.metrics.get_last_value(\"val_accuracy\")"
   ]
  },
  {
   "cell_type": "code",
   "execution_count": 73,
   "metadata": {},
   "outputs": [
    {
     "name": "stdout",
     "output_type": "stream",
     "text": [
      "Epoch 1/10\n",
      "1875/1875 [==============================] - 4s 2ms/step - loss: 0.3298 - accuracy: 0.8790 - val_loss: 0.3899 - val_accuracy: 0.8606\n",
      "Epoch 2/10\n",
      "1875/1875 [==============================] - 3s 2ms/step - loss: 0.3181 - accuracy: 0.8823 - val_loss: 0.3626 - val_accuracy: 0.8672\n",
      "Epoch 3/10\n",
      "1875/1875 [==============================] - 3s 2ms/step - loss: 0.3106 - accuracy: 0.8864 - val_loss: 0.3301 - val_accuracy: 0.8720\n",
      "Epoch 4/10\n",
      "1875/1875 [==============================] - 3s 2ms/step - loss: 0.3017 - accuracy: 0.8900 - val_loss: 0.3301 - val_accuracy: 0.8800\n",
      "Epoch 5/10\n",
      "1875/1875 [==============================] - 3s 2ms/step - loss: 0.2959 - accuracy: 0.8904 - val_loss: 0.3249 - val_accuracy: 0.8762\n",
      "Epoch 6/10\n",
      "1875/1875 [==============================] - 4s 2ms/step - loss: 0.2894 - accuracy: 0.8928 - val_loss: 0.3035 - val_accuracy: 0.8856\n",
      "Epoch 7/10\n",
      "1875/1875 [==============================] - 4s 2ms/step - loss: 0.2820 - accuracy: 0.8960 - val_loss: 0.3039 - val_accuracy: 0.8848\n",
      "Epoch 8/10\n",
      "1875/1875 [==============================] - 4s 2ms/step - loss: 0.2774 - accuracy: 0.8984 - val_loss: 0.2820 - val_accuracy: 0.8972\n",
      "Epoch 9/10\n",
      "1875/1875 [==============================] - 4s 2ms/step - loss: 0.2705 - accuracy: 0.9004 - val_loss: 0.2797 - val_accuracy: 0.8918\n",
      "Epoch 10/10\n",
      "1875/1875 [==============================] - 4s 2ms/step - loss: 0.2653 - accuracy: 0.9024 - val_loss: 0.2789 - val_accuracy: 0.8920\n",
      "313/313 [==============================] - 1s 2ms/step - loss: 0.3964 - accuracy: 0.8601\n"
     ]
    }
   ],
   "source": [
    "best_model.fit(X_train_full, y_train_full, validation_data=(X_valid, y_valid), epochs=10)\n",
    "test_loss, test_accuracy = best_model.evaluate(X_test, y_test)"
   ]
  },
  {
   "cell_type": "markdown",
   "metadata": {},
   "source": [
    "### ==P3. Random Search==\n",
    "#### 1. 위에서 random search의 seed를 변경하여 search를 진행후 best model의 hyperparameter와 score를 찾아 seed=42인 경우와 비교하시오\n",
    "#### 2. seed=42일 때, max_trials=10으로 변경하여 best model의 hyperparameter와 score를 비교하시오"
   ]
  },
  {
   "cell_type": "code",
   "execution_count": 74,
   "metadata": {},
   "outputs": [
    {
     "name": "stdout",
     "output_type": "stream",
     "text": [
      "Trial 5 Complete [00h 00m 42s]\n",
      "val_accuracy: 0.8551999926567078\n",
      "\n",
      "Best val_accuracy So Far: 0.8705999851226807\n",
      "Total elapsed time: 00h 03m 00s\n",
      "Best hyperparameters (seed=100): {'n_hidden': 8, 'n_neurons': 227, 'learning_rate': 0.0026385629878377535, 'optimizer': 'sgd'}\n",
      "Best score (seed=100): 0.8705999851226807\n"
     ]
    }
   ],
   "source": [
    "# P3.1 코드: 다른 seed 값으로 random search 실행\n",
    "random_search_tuner1 = kt.RandomSearch(\n",
    "    build_model, objective=\"val_accuracy\", max_trials=5, overwrite=True,\n",
    "    directory=\"my_fashion_mnist\", project_name=\"my_rnd_search1\", seed=100)  # seed 값을 42에서 100으로 변경\n",
    "random_search_tuner1.search(X_train, y_train, epochs=10,\n",
    "                           validation_data=(X_valid, y_valid))\n",
    "\n",
    "# 최적의 하이퍼파라미터 확인\n",
    "top3_params1 = random_search_tuner1.get_best_hyperparameters(num_trials=1)\n",
    "print(\"Best hyperparameters (seed=100):\", top3_params1[0].values)\n",
    "best_trial1 = random_search_tuner1.oracle.get_best_trials(num_trials=1)[0]\n",
    "print(\"Best score (seed=100):\", best_trial1.metrics.get_last_value(\"val_accuracy\"))"
   ]
  },
  {
   "cell_type": "code",
   "execution_count": 75,
   "metadata": {},
   "outputs": [
    {
     "name": "stdout",
     "output_type": "stream",
     "text": [
      "Best hyperparameters (seed=42): {'n_hidden': 7, 'n_neurons': 100, 'learning_rate': 0.0012482904754698163, 'optimizer': 'sgd'}\n",
      "Best score (seed=42): 0.859000027179718\n",
      "\n",
      "=== 비교 결과 ===\n",
      "seed=42 (원래 결과):\n",
      "  - 최적 하이퍼파라미터: {'n_hidden': 7, 'n_neurons': 100, 'learning_rate': 0.0012482904754698163, 'optimizer': 'sgd'}\n",
      "  - 최고 점수: 0.859000027179718\n",
      "\n",
      "seed=100 (새로운 결과):\n",
      "  - 최적 하이퍼파라미터: {'n_hidden': 8, 'n_neurons': 227, 'learning_rate': 0.0026385629878377535, 'optimizer': 'sgd'}\n",
      "  - 최고 점수: 0.8705999851226807\n"
     ]
    }
   ],
   "source": [
    "# 기존 결과(seed=42)의 최적 하이퍼파라미터 확인\n",
    "top3_params_original = random_search_tuner.get_best_hyperparameters(num_trials=1)\n",
    "print(\"Best hyperparameters (seed=42):\", top3_params_original[0].values)\n",
    "best_trial_original = random_search_tuner.oracle.get_best_trials(num_trials=1)[0]\n",
    "print(\"Best score (seed=42):\", best_trial_original.metrics.get_last_value(\"val_accuracy\"))\n",
    "\n",
    "# 이제 모든 결과를 한번에 비교\n",
    "print(\"\\n=== 비교 결과 ===\")\n",
    "print(\"seed=42 (원래 결과):\")\n",
    "print(\"  - 최적 하이퍼파라미터:\", top3_params_original[0].values)\n",
    "print(\"  - 최고 점수:\", best_trial_original.metrics.get_last_value(\"val_accuracy\"))\n",
    "print(\"\\nseed=100 (새로운 결과):\")\n",
    "print(\"  - 최적 하이퍼파라미터:\", top3_params1[0].values)\n",
    "print(\"  - 최고 점수:\", best_trial1.metrics.get_last_value(\"val_accuracy\"))"
   ]
  },
  {
   "cell_type": "code",
   "execution_count": 76,
   "metadata": {},
   "outputs": [
    {
     "name": "stdout",
     "output_type": "stream",
     "text": [
      "Trial 10 Complete [00h 00m 46s]\n",
      "val_accuracy: 0.8700000047683716\n",
      "\n",
      "Best val_accuracy So Far: 0.8795999884605408\n",
      "Total elapsed time: 00h 06m 46s\n",
      "Best hyperparameters (max_trials=10): {'n_hidden': 7, 'n_neurons': 124, 'learning_rate': 0.0005509513888645584, 'optimizer': 'adam'}\n",
      "Best score (max_trials=10): 0.8795999884605408\n"
     ]
    }
   ],
   "source": [
    "# P3.2 코드: max_trials=10으로 변경\n",
    "random_search_tuner2 = kt.RandomSearch(\n",
    "    build_model, objective=\"val_accuracy\", max_trials=10, overwrite=True,\n",
    "    directory=\"my_fashion_mnist\", project_name=\"my_rnd_search2\", seed=42)  # max_trials를 10으로 변경\n",
    "random_search_tuner2.search(X_train, y_train, epochs=10,\n",
    "                           validation_data=(X_valid, y_valid))\n",
    "\n",
    "# 최적의 하이퍼파라미터 확인\n",
    "top3_params2 = random_search_tuner2.get_best_hyperparameters(num_trials=1)\n",
    "print(\"Best hyperparameters (max_trials=10):\", top3_params2[0].values)\n",
    "best_trial2 = random_search_tuner2.oracle.get_best_trials(num_trials=1)[0]\n",
    "print(\"Best score (max_trials=10):\", best_trial2.metrics.get_last_value(\"val_accuracy\"))"
   ]
  },
  {
   "cell_type": "code",
   "execution_count": 77,
   "metadata": {},
   "outputs": [
    {
     "name": "stdout",
     "output_type": "stream",
     "text": [
      "\n",
      "=== 하이퍼파라미터 탐색 결과 비교 ===\n",
      "         설정         |                         최적 하이퍼파라미터                         |     최고 점수     \n",
      "----------------------------------------------------------------------------------------------------\n",
      "seed=42, trials=5  | {'n_hidden': 7, 'n_neurons': 100, 'learning_rate': 0.0012482904754698163, 'optimizer': 'sgd'} | 0.859000\n",
      "seed=100, trials=5 | {'n_hidden': 8, 'n_neurons': 227, 'learning_rate': 0.0026385629878377535, 'optimizer': 'sgd'} | 0.870600\n",
      "seed=42, trials=10 | {'n_hidden': 7, 'n_neurons': 124, 'learning_rate': 0.0005509513888645584, 'optimizer': 'adam'} | 0.879600\n"
     ]
    }
   ],
   "source": [
    "# 기존 결과(seed=42, max_trials=5)의 최적 하이퍼파라미터 확인\n",
    "top3_params_original = random_search_tuner.get_best_hyperparameters(num_trials=1)\n",
    "best_trial_original = random_search_tuner.oracle.get_best_trials(num_trials=1)[0]\n",
    "\n",
    "# 모든 결과를 표 형태로 비교\n",
    "print(\"\\n=== 하이퍼파라미터 탐색 결과 비교 ===\")\n",
    "print(f\"{'설정':^20}|{'최적 하이퍼파라미터':^60}|{'최고 점수':^15}\")\n",
    "print(\"-\" * 100)\n",
    "print(f\"seed=42, trials=5  | {top3_params_original[0].values} | {best_trial_original.metrics.get_last_value('val_accuracy'):.6f}\")\n",
    "print(f\"seed=100, trials=5 | {top3_params1[0].values} | {best_trial1.metrics.get_last_value('val_accuracy'):.6f}\")\n",
    "print(f\"seed=42, trials=10 | {top3_params2[0].values} | {best_trial2.metrics.get_last_value('val_accuracy'):.6f}\")"
   ]
  },
  {
   "cell_type": "markdown",
   "metadata": {},
   "source": [
    "### P3 결과 비교 분석\n",
    "#### 1. 시드 변경 효과 (seed=42 vs seed=100, trials=5 유지):\n",
    "    - 시드 변경만으로도 최적 하이퍼파라미터가 크게 달라짐\n",
    "    - 정확도가 0.859에서 0.870으로 약 1.1% 향상됨\n",
    "    - 뉴런 수가 100에서 227로 증가, 은닉층 수는 7에서 8로 증가\n",
    "\n",
    "#### 2. 탐색 횟수 증가 효과 (max_trials=5 vs max_trials=10, seed=42 유지):\n",
    "    - 탐색 횟수 증가로 정확도가 0.859에서 0.879로 약 2% 향상됨\n",
    "    - 최적 하이퍼파라미터의 뉴런 수가 100에서 124로 증가\n",
    "    - 옵티마이저가 sgd에서 adam으로 변경됨\n",
    "\n",
    "#### 3. 종합 분석:\n",
    "    - 탐색 횟수 증가가 시드 변경보다 더 큰 성능 향상을 가져옴\n",
    "    - 최적의 결과는 seed=42, trials=10 설정에서 얻어짐(정확도 0.879)\n",
    "    - 학습률은 전반적으로 낮은 값(0.0005~0.002)이 선호됨\n",
    "    - 은닉층의 수는 7~8개로 비슷하게 유지됨"
   ]
  },
  {
   "cell_type": "markdown",
   "metadata": {},
   "source": [
    "#### P2 결과비교 \n",
    "#### Answer:\n",
    "seed=42, max_trials=5: #기존\n",
    "\n",
    "\n",
    "\n",
    "seed=100 , max_trials=5: #P3.1\n",
    "\n",
    "\n",
    "\n",
    "seed=42, max_trials=10: #P3.2\n"
   ]
  },
  {
   "cell_type": "code",
   "execution_count": 78,
   "metadata": {},
   "outputs": [],
   "source": [
    "class MyClassificationHyperModel(kt.HyperModel):\n",
    "    def build(self, hp):\n",
    "        return build_model(hp)\n",
    "\n",
    "    def fit(self, hp, model, X, y, **kwargs):\n",
    "        if hp.Boolean(\"normalize\"):\n",
    "            norm_layer = tf.keras.layers.Normalization()\n",
    "            X = norm_layer(X)\n",
    "        return model.fit(X, y, **kwargs)"
   ]
  },
  {
   "cell_type": "code",
   "execution_count": 79,
   "metadata": {},
   "outputs": [],
   "source": [
    "hyperband_tuner = kt.Hyperband(\n",
    "    MyClassificationHyperModel(), objective=\"val_accuracy\", seed=42,\n",
    "    max_epochs=10, factor=3, hyperband_iterations=2,\n",
    "    overwrite=True, directory=\"my_fashion_mnist\", project_name=\"hyperband\")"
   ]
  },
  {
   "cell_type": "code",
   "execution_count": 80,
   "metadata": {},
   "outputs": [
    {
     "name": "stdout",
     "output_type": "stream",
     "text": [
      "Trial 60 Complete [00h 00m 51s]\n",
      "val_accuracy: 0.8507999777793884\n",
      "\n",
      "Best val_accuracy So Far: 0.8817999958992004\n",
      "Total elapsed time: 00h 17m 44s\n"
     ]
    }
   ],
   "source": [
    "root_logdir = Path(hyperband_tuner.project_dir) / \"tensorboard\"\n",
    "tensorboard_cb = tf.keras.callbacks.TensorBoard(root_logdir)\n",
    "early_stopping_cb = tf.keras.callbacks.EarlyStopping(patience=2)\n",
    "hyperband_tuner.search(X_train, y_train, epochs=10,\n",
    "                       validation_data=(X_valid, y_valid),\n",
    "                       callbacks=[early_stopping_cb, tensorboard_cb])"
   ]
  },
  {
   "cell_type": "code",
   "execution_count": 81,
   "metadata": {},
   "outputs": [
    {
     "data": {
      "text/html": [
       "\n",
       "      <iframe id=\"tensorboard-frame-562aee8873a5587f\" width=\"100%\" height=\"800\" frameborder=\"0\">\n",
       "      </iframe>\n",
       "      <script>\n",
       "        (function() {\n",
       "          const frame = document.getElementById(\"tensorboard-frame-562aee8873a5587f\");\n",
       "          const url = new URL(\"/\", window.location);\n",
       "          const port = 6006;\n",
       "          if (port) {\n",
       "            url.port = port;\n",
       "          }\n",
       "          frame.src = url;\n",
       "        })();\n",
       "      </script>\n",
       "    "
      ],
      "text/plain": [
       "<IPython.core.display.HTML object>"
      ]
     },
     "metadata": {},
     "output_type": "display_data"
    }
   ],
   "source": [
    "%tensorboard --logdir={root_logdir}"
   ]
  },
  {
   "cell_type": "code",
   "execution_count": 82,
   "metadata": {},
   "outputs": [
    {
     "name": "stdout",
     "output_type": "stream",
     "text": [
      "Trial 10 Complete [00h 00m 54s]\n",
      "val_accuracy: 0.8338000178337097\n",
      "\n",
      "Best val_accuracy So Far: 0.8586000204086304\n",
      "Total elapsed time: 00h 09m 27s\n"
     ]
    }
   ],
   "source": [
    "bayesian_opt_tuner = kt.BayesianOptimization(\n",
    "    MyClassificationHyperModel(), objective=\"val_accuracy\", seed=42,\n",
    "    max_trials=10, alpha=1e-4, beta=2.6,\n",
    "    overwrite=True, directory=\"my_fashion_mnist\", project_name=\"bayesian_opt\")\n",
    "bayesian_opt_tuner.search(X_train, y_train, epochs=10,\n",
    "                          validation_data=(X_valid, y_valid),\n",
    "                          callbacks=[early_stopping_cb])"
   ]
  },
  {
   "cell_type": "code",
   "execution_count": null,
   "metadata": {
    "scrolled": true
   },
   "outputs": [],
   "source": []
  },
  {
   "cell_type": "markdown",
   "metadata": {},
   "source": [
    "### Exercise 10.4\n",
    "아래의 파라미터를 갖는 fully-connected network에 대해 다음 물음에 답하시오  \n",
    "Number of input features: Nf  \n",
    "Number of neurons in ith hidden nodes: Nni  \n",
    "Number of hidden layers: Nh  \n",
    "Number of output node: No  \n",
    "\n",
    "1. MAC(multiply and addition) operation의 수를 위에서 주어진 파라미터를 이용하여 식으로 표현하시오. 단, Nh=3이다.  \n",
    "2. 위의 코드중 Reggression MLP의 california housing dataset에 대해 Nh=3, Nn1=Nn2=Nn3=30일 때 30 epoch 동안 학습후 loss, val_loss, mse_test값을 구하시오. Hyperparameter는 Regression MLP의 실습 코드와 같은 값을 이용한다. Tensorboard를 위해 log10 directory에 get_log_dir 함수를 이용하여 subdirectory를 생성하시오.   \n",
    "3. Nh=2일 때 MAC operation 수가 최대한 비슷하도록 Nn1=Nn2를 구하고 2와 같은 조건으로 학습시키고 step당 학습시간, training loss와 test accuracy를 구하시오.\n",
    "4. Nh=1일 때 MAC operation 수가 최대한 비슷하도록 Nn1을 구하고 2와 같은 조건으로 학습시키고 step당 학습시간, training loss와 test accuracy를 구하시오.  \n",
    "5. 2-4번의 결과를 비교하고 분석하시오. 또한 Tensorboard에서 learning curve를 비교하시오."
   ]
  },
  {
   "cell_type": "markdown",
   "metadata": {},
   "source": [
    "1.\n",
    "MAC 연산 수 = Nf × Nn1 + Nn1 × Nn2 + Nn2 × Nn3 + Nn3 × No"
   ]
  },
  {
   "cell_type": "code",
   "execution_count": 83,
   "metadata": {},
   "outputs": [
    {
     "name": "stdout",
     "output_type": "stream",
     "text": [
      "Epoch 1/30\n",
      "363/363 [==============================] - 1s 3ms/step - loss: 1.8806 - root_mean_squared_error: 1.3714 - val_loss: 1.4489 - val_root_mean_squared_error: 1.2037\n",
      "Epoch 2/30\n",
      "363/363 [==============================] - 1s 2ms/step - loss: 0.7557 - root_mean_squared_error: 0.8693 - val_loss: 0.7680 - val_root_mean_squared_error: 0.8764\n",
      "Epoch 3/30\n",
      "363/363 [==============================] - 1s 2ms/step - loss: 0.6595 - root_mean_squared_error: 0.8121 - val_loss: 0.6209 - val_root_mean_squared_error: 0.7880\n",
      "Epoch 4/30\n",
      "363/363 [==============================] - 1s 2ms/step - loss: 0.6057 - root_mean_squared_error: 0.7783 - val_loss: 0.5792 - val_root_mean_squared_error: 0.7610\n",
      "Epoch 5/30\n",
      "363/363 [==============================] - 1s 2ms/step - loss: 0.5648 - root_mean_squared_error: 0.7516 - val_loss: 0.5206 - val_root_mean_squared_error: 0.7215\n",
      "Epoch 6/30\n",
      "363/363 [==============================] - 1s 2ms/step - loss: 0.5271 - root_mean_squared_error: 0.7260 - val_loss: 0.4929 - val_root_mean_squared_error: 0.7021\n",
      "Epoch 7/30\n",
      "363/363 [==============================] - 1s 2ms/step - loss: 0.4982 - root_mean_squared_error: 0.7058 - val_loss: 0.4747 - val_root_mean_squared_error: 0.6890\n",
      "Epoch 8/30\n",
      "363/363 [==============================] - 1s 2ms/step - loss: 0.4734 - root_mean_squared_error: 0.6880 - val_loss: 0.4549 - val_root_mean_squared_error: 0.6745\n",
      "Epoch 9/30\n",
      "363/363 [==============================] - 1s 2ms/step - loss: 0.4539 - root_mean_squared_error: 0.6737 - val_loss: 0.4386 - val_root_mean_squared_error: 0.6623\n",
      "Epoch 10/30\n",
      "363/363 [==============================] - 1s 2ms/step - loss: 0.4384 - root_mean_squared_error: 0.6621 - val_loss: 0.4257 - val_root_mean_squared_error: 0.6524\n",
      "Epoch 11/30\n",
      "363/363 [==============================] - 1s 2ms/step - loss: 0.4267 - root_mean_squared_error: 0.6532 - val_loss: 0.4071 - val_root_mean_squared_error: 0.6381\n",
      "Epoch 12/30\n",
      "363/363 [==============================] - 1s 2ms/step - loss: 0.4170 - root_mean_squared_error: 0.6458 - val_loss: 0.3975 - val_root_mean_squared_error: 0.6305\n",
      "Epoch 13/30\n",
      "363/363 [==============================] - 1s 2ms/step - loss: 0.4091 - root_mean_squared_error: 0.6396 - val_loss: 0.3856 - val_root_mean_squared_error: 0.6209\n",
      "Epoch 14/30\n",
      "363/363 [==============================] - 1s 2ms/step - loss: 0.4026 - root_mean_squared_error: 0.6345 - val_loss: 0.3791 - val_root_mean_squared_error: 0.6157\n",
      "Epoch 15/30\n",
      "363/363 [==============================] - 1s 2ms/step - loss: 0.3975 - root_mean_squared_error: 0.6305 - val_loss: 0.3736 - val_root_mean_squared_error: 0.6112\n",
      "Epoch 16/30\n",
      "363/363 [==============================] - 1s 2ms/step - loss: 0.3929 - root_mean_squared_error: 0.6268 - val_loss: 0.3692 - val_root_mean_squared_error: 0.6076\n",
      "Epoch 17/30\n",
      "363/363 [==============================] - 1s 2ms/step - loss: 0.3892 - root_mean_squared_error: 0.6238 - val_loss: 0.3664 - val_root_mean_squared_error: 0.6053\n",
      "Epoch 18/30\n",
      "363/363 [==============================] - 1s 2ms/step - loss: 0.3859 - root_mean_squared_error: 0.6212 - val_loss: 0.3643 - val_root_mean_squared_error: 0.6035\n",
      "Epoch 19/30\n",
      "363/363 [==============================] - 1s 2ms/step - loss: 0.3825 - root_mean_squared_error: 0.6184 - val_loss: 0.3638 - val_root_mean_squared_error: 0.6031\n",
      "Epoch 20/30\n",
      "363/363 [==============================] - 1s 2ms/step - loss: 0.3804 - root_mean_squared_error: 0.6168 - val_loss: 0.3680 - val_root_mean_squared_error: 0.6066\n",
      "Epoch 21/30\n",
      "363/363 [==============================] - 1s 2ms/step - loss: 0.3775 - root_mean_squared_error: 0.6144 - val_loss: 0.3671 - val_root_mean_squared_error: 0.6058\n",
      "Epoch 22/30\n",
      "363/363 [==============================] - 1s 2ms/step - loss: 0.3754 - root_mean_squared_error: 0.6127 - val_loss: 0.3720 - val_root_mean_squared_error: 0.6099\n",
      "Epoch 23/30\n",
      "363/363 [==============================] - 1s 2ms/step - loss: 0.3734 - root_mean_squared_error: 0.6111 - val_loss: 0.3587 - val_root_mean_squared_error: 0.5989\n",
      "Epoch 24/30\n",
      "363/363 [==============================] - 1s 2ms/step - loss: 0.3713 - root_mean_squared_error: 0.6093 - val_loss: 0.3577 - val_root_mean_squared_error: 0.5981\n",
      "Epoch 25/30\n",
      "363/363 [==============================] - 1s 2ms/step - loss: 0.3697 - root_mean_squared_error: 0.6081 - val_loss: 0.3608 - val_root_mean_squared_error: 0.6006\n",
      "Epoch 26/30\n",
      "363/363 [==============================] - 1s 2ms/step - loss: 0.3679 - root_mean_squared_error: 0.6066 - val_loss: 0.3618 - val_root_mean_squared_error: 0.6015\n",
      "Epoch 27/30\n",
      "363/363 [==============================] - 1s 2ms/step - loss: 0.3668 - root_mean_squared_error: 0.6056 - val_loss: 0.3561 - val_root_mean_squared_error: 0.5968\n",
      "Epoch 28/30\n",
      "363/363 [==============================] - 1s 2ms/step - loss: 0.3654 - root_mean_squared_error: 0.6045 - val_loss: 0.3574 - val_root_mean_squared_error: 0.5978\n",
      "Epoch 29/30\n",
      "363/363 [==============================] - 1s 2ms/step - loss: 0.3639 - root_mean_squared_error: 0.6032 - val_loss: 0.3507 - val_root_mean_squared_error: 0.5922\n",
      "Epoch 30/30\n",
      "363/363 [==============================] - 1s 2ms/step - loss: 0.3626 - root_mean_squared_error: 0.6022 - val_loss: 0.3498 - val_root_mean_squared_error: 0.5914\n",
      "162/162 [==============================] - 0s 1ms/step - loss: 0.3626 - root_mean_squared_error: 0.6022\n",
      "Test MSE: 0.36262327432632446\n",
      "Test RMSE: 0.6021820902824402\n"
     ]
    }
   ],
   "source": [
    "# 데이터 준비\n",
    "from sklearn.datasets import fetch_california_housing\n",
    "from sklearn.model_selection import train_test_split\n",
    "from sklearn.preprocessing import StandardScaler\n",
    "\n",
    "housing = fetch_california_housing()\n",
    "X_train_full, X_test, y_train_full, y_test = train_test_split(housing.data, housing.target, random_state=42)\n",
    "X_train, X_valid, y_train, y_valid = train_test_split(X_train_full, y_train_full, random_state=42)\n",
    "scaler = StandardScaler()\n",
    "X_train = scaler.fit_transform(X_train)\n",
    "X_valid = scaler.transform(X_valid)\n",
    "X_test = scaler.transform(X_test)\n",
    "\n",
    "# 로그 디렉토리 설정\n",
    "run_logdir = get_run_logdir(\"log10\")\n",
    "\n",
    "# Nh=3, Nn=30 모델 구축\n",
    "tf.keras.backend.clear_session()\n",
    "np.random.seed(42)\n",
    "tf.random.set_seed(42)\n",
    "\n",
    "model3 = tf.keras.Sequential([\n",
    "    tf.keras.layers.Dense(30, activation=\"relu\", input_shape=X_train.shape[1:]),\n",
    "    tf.keras.layers.Dense(30, activation=\"relu\"),\n",
    "    tf.keras.layers.Dense(30, activation=\"relu\"),\n",
    "    tf.keras.layers.Dense(1)\n",
    "])\n",
    "\n",
    "optimizer = tf.keras.optimizers.SGD(learning_rate=1e-3)\n",
    "model3.compile(loss=\"mse\", optimizer=optimizer, metrics=[\"RootMeanSquaredError\"])\n",
    "tensorboard_cb = tf.keras.callbacks.TensorBoard(run_logdir)\n",
    "history = model3.fit(X_train, y_train, epochs=30, validation_data=(X_valid, y_valid), callbacks=[tensorboard_cb])\n",
    "\n",
    "mse_test = model3.evaluate(X_test, y_test)\n",
    "print(\"Test MSE:\", mse_test[0])\n",
    "print(\"Test RMSE:\", mse_test[1])"
   ]
  },
  {
   "cell_type": "code",
   "execution_count": 84,
   "metadata": {},
   "outputs": [
    {
     "name": "stdout",
     "output_type": "stream",
     "text": [
      "Epoch 1/30\n",
      "363/363 [==============================] - 1s 3ms/step - loss: 1.9714 - root_mean_squared_error: 1.4041 - val_loss: 0.8087 - val_root_mean_squared_error: 0.8993\n",
      "Epoch 2/30\n",
      "363/363 [==============================] - 1s 2ms/step - loss: 0.7355 - root_mean_squared_error: 0.8576 - val_loss: 0.6806 - val_root_mean_squared_error: 0.8250\n",
      "Epoch 3/30\n",
      "363/363 [==============================] - 1s 2ms/step - loss: 0.6565 - root_mean_squared_error: 0.8102 - val_loss: 0.6319 - val_root_mean_squared_error: 0.7949\n",
      "Epoch 4/30\n",
      "363/363 [==============================] - 1s 2ms/step - loss: 0.6112 - root_mean_squared_error: 0.7818 - val_loss: 0.5655 - val_root_mean_squared_error: 0.7520\n",
      "Epoch 5/30\n",
      "363/363 [==============================] - 1s 2ms/step - loss: 0.5746 - root_mean_squared_error: 0.7580 - val_loss: 0.5334 - val_root_mean_squared_error: 0.7303\n",
      "Epoch 6/30\n",
      "363/363 [==============================] - 1s 2ms/step - loss: 0.5421 - root_mean_squared_error: 0.7363 - val_loss: 0.5023 - val_root_mean_squared_error: 0.7087\n",
      "Epoch 7/30\n",
      "363/363 [==============================] - 1s 2ms/step - loss: 0.5154 - root_mean_squared_error: 0.7179 - val_loss: 0.4838 - val_root_mean_squared_error: 0.6956\n",
      "Epoch 8/30\n",
      "363/363 [==============================] - 1s 2ms/step - loss: 0.4928 - root_mean_squared_error: 0.7020 - val_loss: 0.4710 - val_root_mean_squared_error: 0.6863\n",
      "Epoch 9/30\n",
      "363/363 [==============================] - 1s 2ms/step - loss: 0.4730 - root_mean_squared_error: 0.6878 - val_loss: 0.4394 - val_root_mean_squared_error: 0.6628\n",
      "Epoch 10/30\n",
      "363/363 [==============================] - 1s 2ms/step - loss: 0.4572 - root_mean_squared_error: 0.6762 - val_loss: 0.4255 - val_root_mean_squared_error: 0.6523\n",
      "Epoch 11/30\n",
      "363/363 [==============================] - 1s 2ms/step - loss: 0.4448 - root_mean_squared_error: 0.6669 - val_loss: 0.4420 - val_root_mean_squared_error: 0.6649\n",
      "Epoch 12/30\n",
      "363/363 [==============================] - 1s 2ms/step - loss: 0.4343 - root_mean_squared_error: 0.6590 - val_loss: 0.4106 - val_root_mean_squared_error: 0.6408\n",
      "Epoch 13/30\n",
      "363/363 [==============================] - 1s 2ms/step - loss: 0.4262 - root_mean_squared_error: 0.6528 - val_loss: 0.4185 - val_root_mean_squared_error: 0.6469\n",
      "Epoch 14/30\n",
      "363/363 [==============================] - 1s 2ms/step - loss: 0.4193 - root_mean_squared_error: 0.6475 - val_loss: 0.4035 - val_root_mean_squared_error: 0.6352\n",
      "Epoch 15/30\n",
      "363/363 [==============================] - 1s 2ms/step - loss: 0.4137 - root_mean_squared_error: 0.6432 - val_loss: 0.4208 - val_root_mean_squared_error: 0.6487\n",
      "Epoch 16/30\n",
      "363/363 [==============================] - 1s 2ms/step - loss: 0.4088 - root_mean_squared_error: 0.6394 - val_loss: 0.3938 - val_root_mean_squared_error: 0.6275\n",
      "Epoch 17/30\n",
      "363/363 [==============================] - 1s 2ms/step - loss: 0.4047 - root_mean_squared_error: 0.6362 - val_loss: 0.4390 - val_root_mean_squared_error: 0.6626\n",
      "Epoch 18/30\n",
      "363/363 [==============================] - 1s 2ms/step - loss: 0.4007 - root_mean_squared_error: 0.6330 - val_loss: 0.4037 - val_root_mean_squared_error: 0.6354\n",
      "Epoch 19/30\n",
      "363/363 [==============================] - 1s 2ms/step - loss: 0.3968 - root_mean_squared_error: 0.6299 - val_loss: 0.3918 - val_root_mean_squared_error: 0.6259\n",
      "Epoch 20/30\n",
      "363/363 [==============================] - 1s 2ms/step - loss: 0.3940 - root_mean_squared_error: 0.6277 - val_loss: 0.4587 - val_root_mean_squared_error: 0.6773\n",
      "Epoch 21/30\n",
      "363/363 [==============================] - 1s 2ms/step - loss: 0.3913 - root_mean_squared_error: 0.6255 - val_loss: 0.3980 - val_root_mean_squared_error: 0.6308\n",
      "Epoch 22/30\n",
      "363/363 [==============================] - 1s 2ms/step - loss: 0.3882 - root_mean_squared_error: 0.6230 - val_loss: 0.4503 - val_root_mean_squared_error: 0.6710\n",
      "Epoch 23/30\n",
      "363/363 [==============================] - 1s 2ms/step - loss: 0.3859 - root_mean_squared_error: 0.6212 - val_loss: 0.3663 - val_root_mean_squared_error: 0.6052\n",
      "Epoch 24/30\n",
      "363/363 [==============================] - 1s 2ms/step - loss: 0.3833 - root_mean_squared_error: 0.6191 - val_loss: 0.4127 - val_root_mean_squared_error: 0.6424\n",
      "Epoch 25/30\n",
      "363/363 [==============================] - 1s 2ms/step - loss: 0.3812 - root_mean_squared_error: 0.6175 - val_loss: 0.4064 - val_root_mean_squared_error: 0.6375\n",
      "Epoch 26/30\n",
      "363/363 [==============================] - 1s 2ms/step - loss: 0.3790 - root_mean_squared_error: 0.6156 - val_loss: 0.4339 - val_root_mean_squared_error: 0.6587\n",
      "Epoch 27/30\n",
      "363/363 [==============================] - 1s 2ms/step - loss: 0.3775 - root_mean_squared_error: 0.6144 - val_loss: 0.3580 - val_root_mean_squared_error: 0.5983\n",
      "Epoch 28/30\n",
      "363/363 [==============================] - 1s 2ms/step - loss: 0.3754 - root_mean_squared_error: 0.6127 - val_loss: 0.4120 - val_root_mean_squared_error: 0.6419\n",
      "Epoch 29/30\n",
      "363/363 [==============================] - 1s 2ms/step - loss: 0.3740 - root_mean_squared_error: 0.6115 - val_loss: 0.3757 - val_root_mean_squared_error: 0.6130\n",
      "Epoch 30/30\n",
      "363/363 [==============================] - 1s 2ms/step - loss: 0.3718 - root_mean_squared_error: 0.6097 - val_loss: 0.4264 - val_root_mean_squared_error: 0.6530\n",
      "162/162 [==============================] - 0s 1ms/step - loss: 0.3677 - root_mean_squared_error: 0.6064\n",
      "Test MSE: 0.36774489283561707\n",
      "Test RMSE: 0.6064197421073914\n"
     ]
    }
   ],
   "source": [
    "# Nh=2, Nn=41 모델\n",
    "tf.keras.backend.clear_session()\n",
    "np.random.seed(42)\n",
    "tf.random.set_seed(42)\n",
    "run_logdir = get_run_logdir(\"log10\")\n",
    "\n",
    "model2 = tf.keras.Sequential([\n",
    "    tf.keras.layers.Dense(41, activation=\"relu\", input_shape=X_train.shape[1:]),\n",
    "    tf.keras.layers.Dense(41, activation=\"relu\"),\n",
    "    tf.keras.layers.Dense(1)\n",
    "])\n",
    "\n",
    "optimizer = tf.keras.optimizers.SGD(learning_rate=1e-3)\n",
    "model2.compile(loss=\"mse\", optimizer=optimizer, metrics=[\"RootMeanSquaredError\"])\n",
    "tensorboard_cb = tf.keras.callbacks.TensorBoard(run_logdir)\n",
    "history = model2.fit(X_train, y_train, epochs=30, validation_data=(X_valid, y_valid), callbacks=[tensorboard_cb])\n",
    "\n",
    "mse_test = model2.evaluate(X_test, y_test)\n",
    "print(\"Test MSE:\", mse_test[0])\n",
    "print(\"Test RMSE:\", mse_test[1])"
   ]
  },
  {
   "cell_type": "code",
   "execution_count": 85,
   "metadata": {},
   "outputs": [
    {
     "name": "stdout",
     "output_type": "stream",
     "text": [
      "Epoch 1/30\n",
      "363/363 [==============================] - 1s 2ms/step - loss: 1.8719 - root_mean_squared_error: 1.3682 - val_loss: 0.9685 - val_root_mean_squared_error: 0.9841\n",
      "Epoch 2/30\n",
      "363/363 [==============================] - 1s 2ms/step - loss: 0.7270 - root_mean_squared_error: 0.8526 - val_loss: 0.6904 - val_root_mean_squared_error: 0.8309\n",
      "Epoch 3/30\n",
      "363/363 [==============================] - 1s 2ms/step - loss: 0.6602 - root_mean_squared_error: 0.8125 - val_loss: 0.6333 - val_root_mean_squared_error: 0.7958\n",
      "Epoch 4/30\n",
      "363/363 [==============================] - 1s 2ms/step - loss: 0.6205 - root_mean_squared_error: 0.7877 - val_loss: 0.5967 - val_root_mean_squared_error: 0.7724\n",
      "Epoch 5/30\n",
      "363/363 [==============================] - 1s 2ms/step - loss: 0.5875 - root_mean_squared_error: 0.7665 - val_loss: 0.5579 - val_root_mean_squared_error: 0.7469\n",
      "Epoch 6/30\n",
      "363/363 [==============================] - 1s 2ms/step - loss: 0.5579 - root_mean_squared_error: 0.7469 - val_loss: 0.5173 - val_root_mean_squared_error: 0.7193\n",
      "Epoch 7/30\n",
      "363/363 [==============================] - 1s 2ms/step - loss: 0.5346 - root_mean_squared_error: 0.7311 - val_loss: 0.5019 - val_root_mean_squared_error: 0.7085\n",
      "Epoch 8/30\n",
      "363/363 [==============================] - 1s 2ms/step - loss: 0.5145 - root_mean_squared_error: 0.7173 - val_loss: 0.5051 - val_root_mean_squared_error: 0.7107\n",
      "Epoch 9/30\n",
      "363/363 [==============================] - 1s 2ms/step - loss: 0.4961 - root_mean_squared_error: 0.7044 - val_loss: 0.4578 - val_root_mean_squared_error: 0.6766\n",
      "Epoch 10/30\n",
      "363/363 [==============================] - 1s 2ms/step - loss: 0.4814 - root_mean_squared_error: 0.6938 - val_loss: 0.4486 - val_root_mean_squared_error: 0.6697\n",
      "Epoch 11/30\n",
      "363/363 [==============================] - 1s 2ms/step - loss: 0.4695 - root_mean_squared_error: 0.6852 - val_loss: 0.4907 - val_root_mean_squared_error: 0.7005\n",
      "Epoch 12/30\n",
      "363/363 [==============================] - 1s 2ms/step - loss: 0.4586 - root_mean_squared_error: 0.6772 - val_loss: 0.4347 - val_root_mean_squared_error: 0.6593\n",
      "Epoch 13/30\n",
      "363/363 [==============================] - 1s 2ms/step - loss: 0.4502 - root_mean_squared_error: 0.6710 - val_loss: 0.4260 - val_root_mean_squared_error: 0.6527\n",
      "Epoch 14/30\n",
      "363/363 [==============================] - 1s 2ms/step - loss: 0.4423 - root_mean_squared_error: 0.6650 - val_loss: 0.4081 - val_root_mean_squared_error: 0.6388\n",
      "Epoch 15/30\n",
      "363/363 [==============================] - 1s 2ms/step - loss: 0.4358 - root_mean_squared_error: 0.6601 - val_loss: 0.4117 - val_root_mean_squared_error: 0.6417\n",
      "Epoch 16/30\n",
      "363/363 [==============================] - 1s 2ms/step - loss: 0.4302 - root_mean_squared_error: 0.6559 - val_loss: 0.3979 - val_root_mean_squared_error: 0.6308\n",
      "Epoch 17/30\n",
      "363/363 [==============================] - 1s 2ms/step - loss: 0.4254 - root_mean_squared_error: 0.6523 - val_loss: 0.4075 - val_root_mean_squared_error: 0.6383\n",
      "Epoch 18/30\n",
      "363/363 [==============================] - 1s 2ms/step - loss: 0.4213 - root_mean_squared_error: 0.6491 - val_loss: 0.4072 - val_root_mean_squared_error: 0.6381\n",
      "Epoch 19/30\n",
      "363/363 [==============================] - 1s 2ms/step - loss: 0.4172 - root_mean_squared_error: 0.6459 - val_loss: 0.3881 - val_root_mean_squared_error: 0.6230\n",
      "Epoch 20/30\n",
      "363/363 [==============================] - 1s 2ms/step - loss: 0.4140 - root_mean_squared_error: 0.6434 - val_loss: 0.4192 - val_root_mean_squared_error: 0.6474\n",
      "Epoch 21/30\n",
      "363/363 [==============================] - 1s 2ms/step - loss: 0.4109 - root_mean_squared_error: 0.6410 - val_loss: 0.3887 - val_root_mean_squared_error: 0.6234\n",
      "Epoch 22/30\n",
      "363/363 [==============================] - 1s 2ms/step - loss: 0.4080 - root_mean_squared_error: 0.6388 - val_loss: 0.4122 - val_root_mean_squared_error: 0.6420\n",
      "Epoch 23/30\n",
      "363/363 [==============================] - 1s 2ms/step - loss: 0.4055 - root_mean_squared_error: 0.6368 - val_loss: 0.3749 - val_root_mean_squared_error: 0.6123\n",
      "Epoch 24/30\n",
      "363/363 [==============================] - 1s 2ms/step - loss: 0.4031 - root_mean_squared_error: 0.6349 - val_loss: 0.3928 - val_root_mean_squared_error: 0.6267\n",
      "Epoch 25/30\n",
      "363/363 [==============================] - 1s 2ms/step - loss: 0.4007 - root_mean_squared_error: 0.6330 - val_loss: 0.4112 - val_root_mean_squared_error: 0.6412\n",
      "Epoch 26/30\n",
      "363/363 [==============================] - 1s 2ms/step - loss: 0.3990 - root_mean_squared_error: 0.6317 - val_loss: 0.3901 - val_root_mean_squared_error: 0.6246\n",
      "Epoch 27/30\n",
      "363/363 [==============================] - 1s 2ms/step - loss: 0.3972 - root_mean_squared_error: 0.6302 - val_loss: 0.3675 - val_root_mean_squared_error: 0.6062\n",
      "Epoch 28/30\n",
      "363/363 [==============================] - 1s 2ms/step - loss: 0.3953 - root_mean_squared_error: 0.6287 - val_loss: 0.3978 - val_root_mean_squared_error: 0.6307\n",
      "Epoch 29/30\n",
      "363/363 [==============================] - 1s 2ms/step - loss: 0.3938 - root_mean_squared_error: 0.6275 - val_loss: 0.3700 - val_root_mean_squared_error: 0.6083\n",
      "Epoch 30/30\n",
      "363/363 [==============================] - 1s 2ms/step - loss: 0.3919 - root_mean_squared_error: 0.6260 - val_loss: 0.4034 - val_root_mean_squared_error: 0.6351\n",
      "162/162 [==============================] - 0s 982us/step - loss: 0.3862 - root_mean_squared_error: 0.6214\n",
      "Test MSE: 0.38619670271873474\n",
      "Test RMSE: 0.6214472651481628\n"
     ]
    }
   ],
   "source": [
    "#4\n",
    "# number of MAC operation for 1 hidden layers : \n",
    "# 8 x n + n x 1 = 2070 -> n = 230\n",
    "# Nh=1, Nn=230 모델\n",
    "tf.keras.backend.clear_session()\n",
    "np.random.seed(42)\n",
    "tf.random.set_seed(42)\n",
    "run_logdir = get_run_logdir(\"log10\")\n",
    "\n",
    "model1 = tf.keras.Sequential([\n",
    "    tf.keras.layers.Dense(230, activation=\"relu\", input_shape=X_train.shape[1:]),\n",
    "    tf.keras.layers.Dense(1)\n",
    "])\n",
    "\n",
    "optimizer = tf.keras.optimizers.SGD(learning_rate=1e-3)\n",
    "model1.compile(loss=\"mse\", optimizer=optimizer, metrics=[\"RootMeanSquaredError\"])\n",
    "tensorboard_cb = tf.keras.callbacks.TensorBoard(run_logdir)\n",
    "history = model1.fit(X_train, y_train, epochs=30, validation_data=(X_valid, y_valid), callbacks=[tensorboard_cb])\n",
    "\n",
    "mse_test = model1.evaluate(X_test, y_test)\n",
    "print(\"Test MSE:\", mse_test[0])\n",
    "print(\"Test RMSE:\", mse_test[1])"
   ]
  },
  {
   "cell_type": "code",
   "execution_count": 86,
   "metadata": {},
   "outputs": [
    {
     "data": {
      "text/html": [
       "\n",
       "      <iframe id=\"tensorboard-frame-87503ac4b2a63898\" width=\"100%\" height=\"800\" frameborder=\"0\">\n",
       "      </iframe>\n",
       "      <script>\n",
       "        (function() {\n",
       "          const frame = document.getElementById(\"tensorboard-frame-87503ac4b2a63898\");\n",
       "          const url = new URL(\"/\", window.location);\n",
       "          const port = 6006;\n",
       "          if (port) {\n",
       "            url.port = port;\n",
       "          }\n",
       "          frame.src = url;\n",
       "        })();\n",
       "      </script>\n",
       "    "
      ],
      "text/plain": [
       "<IPython.core.display.HTML object>"
      ]
     },
     "metadata": {},
     "output_type": "display_data"
    }
   ],
   "source": [
    "%tensorboard --logdir=./my_logs --port=6006"
   ]
  },
  {
   "cell_type": "markdown",
   "metadata": {},
   "source": [
    "# Exercise solutions"
   ]
  },
  {
   "cell_type": "markdown",
   "metadata": {},
   "source": [
    "## 10."
   ]
  },
  {
   "cell_type": "markdown",
   "metadata": {},
   "source": [
    "*Exercise: Train a deep MLP on the MNIST dataset (you can load it using `keras.datasets.mnist.load_data()`. See if you can get over 98% precision. Try searching for the optimal learning rate by using the approach presented in this chapter (i.e., by growing the learning rate exponentially, plotting the loss, and finding the point where the loss shoots up). Try adding all the bells and whistles—save checkpoints, use early stopping, and plot learning curves using TensorBoard.*"
   ]
  },
  {
   "cell_type": "markdown",
   "metadata": {},
   "source": [
    "Let's load the dataset:"
   ]
  },
  {
   "cell_type": "code",
   "execution_count": 89,
   "metadata": {},
   "outputs": [
    {
     "name": "stdout",
     "output_type": "stream",
     "text": [
      "Downloading data from https://storage.googleapis.com/tensorflow/tf-keras-datasets/mnist.npz\n",
      "11490434/11490434 [==============================] - 1s 0us/step\n"
     ]
    }
   ],
   "source": [
    "# MNIST 데이터셋 로드\n",
    "import tensorflow as tf\n",
    "from tensorflow import keras\n",
    "import numpy as np\n",
    "import matplotlib.pyplot as plt\n",
    "import os\n",
    "mnist = keras.datasets.mnist.load_data()\n",
    "(X_train_full, y_train_full), (X_test, y_test) = mnist"
   ]
  },
  {
   "cell_type": "markdown",
   "metadata": {},
   "source": [
    "Just like for the Fashion MNIST dataset, the MNIST training set contains 60,000 grayscale images, each 28x28 pixels:"
   ]
  },
  {
   "cell_type": "code",
   "execution_count": 91,
   "metadata": {},
   "outputs": [
    {
     "name": "stdout",
     "output_type": "stream",
     "text": [
      "(60000, 28, 28)\n"
     ]
    }
   ],
   "source": [
    "print(X_train_full.shape)  # 출력: (60000, 28, 28)"
   ]
  },
  {
   "cell_type": "markdown",
   "metadata": {},
   "source": [
    "Each pixel intensity is also represented as a byte (0 to 255):"
   ]
  },
  {
   "cell_type": "code",
   "execution_count": 90,
   "metadata": {},
   "outputs": [
    {
     "name": "stdout",
     "output_type": "stream",
     "text": [
      "uint8\n",
      "0 255\n"
     ]
    }
   ],
   "source": [
    "print(X_train_full.dtype)  # 출력: uint8 (부호 없는 8비트 정수)\n",
    "print(X_train_full.min(), X_train_full.max())  # 출력: 0 255"
   ]
  },
  {
   "cell_type": "markdown",
   "metadata": {},
   "source": [
    "Let's split the full training set into a validation set and a (smaller) training set. We also scale the pixel intensities down to the 0-1 range and convert them to floats, by dividing by 255, just like we did for Fashion MNIST:"
   ]
  },
  {
   "cell_type": "code",
   "execution_count": 92,
   "metadata": {},
   "outputs": [],
   "source": [
    "X_train, X_valid = X_train_full[:-5000], X_train_full[-5000:]\n",
    "y_train, y_valid = y_train_full[:-5000], y_train_full[-5000:]\n",
    "\n",
    "X_train = X_train / 255.0\n",
    "X_valid = X_valid / 255.0\n",
    "X_test = X_test / 255.0"
   ]
  },
  {
   "cell_type": "markdown",
   "metadata": {},
   "source": [
    "Let's plot an image using Matplotlib's `imshow()` function, with a `'binary'`\n",
    " color map:"
   ]
  },
  {
   "cell_type": "code",
   "execution_count": 94,
   "metadata": {},
   "outputs": [
    {
     "data": {
      "image/png": "[encoded data removed]",
      "text/plain": [
       "<Figure size 640x480 with 1 Axes>"
      ]
     },
     "metadata": {},
     "output_type": "display_data"
    }
   ],
   "source": [
    "plt.imshow(X_train[0], cmap=\"binary\")\n",
    "plt.axis('off')\n",
    "plt.show()"
   ]
  },
  {
   "cell_type": "markdown",
   "metadata": {},
   "source": [
    "The labels are the class IDs (represented as uint8), from 0 to 9. Conveniently, the class IDs correspond to the digits represented in the images, so we don't need a `class_names` array:"
   ]
  },
  {
   "cell_type": "code",
   "execution_count": 93,
   "metadata": {},
   "outputs": [
    {
     "name": "stdout",
     "output_type": "stream",
     "text": [
      "5\n",
      "[5 0 4 1 9 2 1 3 1 4]\n"
     ]
    }
   ],
   "source": [
    "# 레이블 확인\n",
    "print(y_train[0])  # 첫 번째 훈련 이미지의 레이블 출력\n",
    "print(y_train[:10])  # 처음 10개 이미지의 레이블 확인"
   ]
  },
  {
   "cell_type": "markdown",
   "metadata": {},
   "source": [
    "The validation set contains 5,000 images, and the test set contains 10,000 images:"
   ]
  },
  {
   "cell_type": "code",
   "execution_count": 95,
   "metadata": {},
   "outputs": [
    {
     "name": "stdout",
     "output_type": "stream",
     "text": [
      "검증 세트 크기: (5000, 28, 28) (5000,)\n"
     ]
    }
   ],
   "source": [
    "# 검증 세트 크기 확인\n",
    "print(\"검증 세트 크기:\", X_valid.shape, y_valid.shape)"
   ]
  },
  {
   "cell_type": "code",
   "execution_count": 96,
   "metadata": {},
   "outputs": [
    {
     "name": "stdout",
     "output_type": "stream",
     "text": [
      "테스트 세트 크기: (10000, 28, 28) (10000,)\n"
     ]
    }
   ],
   "source": [
    "# 테스트 세트 크기 확인\n",
    "print(\"테스트 세트 크기:\", X_test.shape, y_test.shape)"
   ]
  },
  {
   "cell_type": "markdown",
   "metadata": {},
   "source": [
    "Let's take a look at a sample of the images in the dataset:"
   ]
  },
  {
   "cell_type": "code",
   "execution_count": 97,
   "metadata": {},
   "outputs": [
    {
     "data": {
      "image/png": "[encoded data removed]",
      "text/plain": [
       "<Figure size 1200x480 with 40 Axes>"
      ]
     },
     "metadata": {},
     "output_type": "display_data"
    }
   ],
   "source": [
    "n_rows = 4\n",
    "n_cols = 10\n",
    "plt.figure(figsize=(n_cols * 1.2, n_rows * 1.2))\n",
    "for row in range(n_rows):\n",
    "    for col in range(n_cols):\n",
    "        index = n_cols * row + col\n",
    "        plt.subplot(n_rows, n_cols, index + 1)\n",
    "        plt.imshow(X_train[index], cmap=\"binary\", interpolation=\"nearest\")\n",
    "        plt.axis('off')\n",
    "        plt.title(y_train[index], fontsize=12)\n",
    "plt.subplots_adjust(wspace=0.2, hspace=0.5)\n",
    "plt.show()"
   ]
  },
  {
   "cell_type": "markdown",
   "metadata": {},
   "source": [
    "Let's build a simple dense network and find the optimal learning rate. We will need a callback to grow the learning rate at each iteration. It will also record the learning rate and the loss at each iteration:"
   ]
  },
  {
   "cell_type": "code",
   "execution_count": 99,
   "metadata": {},
   "outputs": [],
   "source": [
    "K = keras.backend\n",
    "\n",
    "class ExponentialLearningRate(keras.callbacks.Callback):\n",
    "    def __init__(self, factor):\n",
    "        self.factor = factor\n",
    "        self.rates = []\n",
    "        self.losses = []\n",
    "    def on_batch_end(self, batch, logs):\n",
    "        self.rates.append(K.get_value(self.model.optimizer.lr))\n",
    "        self.losses.append(logs[\"loss\"])\n",
    "        K.set_value(self.model.optimizer.lr, self.model.optimizer.lr * self.factor)"
   ]
  },
  {
   "cell_type": "code",
   "execution_count": 100,
   "metadata": {},
   "outputs": [],
   "source": [
    "keras.backend.clear_session()\n",
    "np.random.seed(42)\n",
    "tf.random.set_seed(42)"
   ]
  },
  {
   "cell_type": "code",
   "execution_count": 101,
   "metadata": {},
   "outputs": [],
   "source": [
    "model = keras.models.Sequential([\n",
    "    keras.layers.Flatten(input_shape=[28, 28]),\n",
    "    keras.layers.Dense(300, activation=\"relu\"),\n",
    "    keras.layers.Dense(100, activation=\"relu\"),\n",
    "    keras.layers.Dense(10, activation=\"softmax\")\n",
    "])\n",
    "\n",
    "model.compile(loss=\"sparse_categorical_crossentropy\",\n",
    "              optimizer=\"sgd\",\n",
    "              metrics=[\"accuracy\"])"
   ]
  },
  {
   "cell_type": "markdown",
   "metadata": {},
   "source": [
    "We will start with a small learning rate of 1e-3, and grow it by 0.5% at each iteration:"
   ]
  },
  {
   "cell_type": "code",
   "execution_count": 102,
   "metadata": {},
   "outputs": [],
   "source": [
    "expon_lr = ExponentialLearningRate(factor=1.005)"
   ]
  },
  {
   "cell_type": "markdown",
   "metadata": {},
   "source": [
    "Now let's train the model for just 1 epoch:"
   ]
  },
  {
   "cell_type": "code",
   "execution_count": 103,
   "metadata": {},
   "outputs": [
    {
     "name": "stdout",
     "output_type": "stream",
     "text": [
      "1719/1719 [==============================] - 4s 2ms/step - loss: nan - accuracy: 0.5002 - val_loss: nan - val_accuracy: 0.0978\n"
     ]
    }
   ],
   "source": [
    "history = model.fit(X_train, y_train, epochs=1,\n",
    "                   validation_data=(X_valid, y_valid),\n",
    "                   callbacks=[expon_lr])"
   ]
  },
  {
   "cell_type": "markdown",
   "metadata": {},
   "source": [
    "We can now plot the loss as a functionof the learning rate:"
   ]
  },
  {
   "cell_type": "code",
   "execution_count": 104,
   "metadata": {},
   "outputs": [
    {
     "data": {
      "text/plain": [
       "Text(0, 0.5, 'Loss')"
      ]
     },
     "execution_count": 104,
     "metadata": {},
     "output_type": "execute_result"
    },
    {
     "data": {
      "image/png": "[encoded data removed]",
      "text/plain": [
       "<Figure size 640x480 with 1 Axes>"
      ]
     },
     "metadata": {},
     "output_type": "display_data"
    }
   ],
   "source": [
    "plt.plot(expon_lr.rates, expon_lr.losses)\n",
    "plt.gca().set_xscale('log')\n",
    "plt.hlines(min(expon_lr.losses), min(expon_lr.rates), max(expon_lr.rates))\n",
    "plt.axis([min(expon_lr.rates), max(expon_lr.rates), 0, expon_lr.losses[0]])\n",
    "plt.xlabel(\"Learning rate\")\n",
    "plt.ylabel(\"Loss\")"
   ]
  },
  {
   "cell_type": "markdown",
   "metadata": {},
   "source": [
    "The loss starts shooting back up violently around 3e-1, so let's try using 2e-1 as our learning rate:"
   ]
  },
  {
   "cell_type": "code",
   "execution_count": 105,
   "metadata": {},
   "outputs": [],
   "source": [
    "keras.backend.clear_session()\n",
    "np.random.seed(42)\n",
    "tf.random.set_seed(42)"
   ]
  },
  {
   "cell_type": "code",
   "execution_count": 107,
   "metadata": {},
   "outputs": [
    {
     "name": "stdout",
     "output_type": "stream",
     "text": [
      "Model: \"sequential_1\"\n",
      "_________________________________________________________________\n",
      " Layer (type)                Output Shape              Param #   \n",
      "=================================================================\n",
      " flatten_1 (Flatten)         (None, 784)               0         \n",
      "                                                                 \n",
      " dense_3 (Dense)             (None, 300)               235500    \n",
      "                                                                 \n",
      " dense_4 (Dense)             (None, 100)               30100     \n",
      "                                                                 \n",
      " dense_5 (Dense)             (None, 10)                1010      \n",
      "                                                                 \n",
      "=================================================================\n",
      "Total params: 266,610\n",
      "Trainable params: 266,610\n",
      "Non-trainable params: 0\n",
      "_________________________________________________________________\n"
     ]
    }
   ],
   "source": [
    "model = keras.models.Sequential([\n",
    "    keras.layers.Flatten(input_shape=[28, 28]),\n",
    "    keras.layers.Dense(300, activation=\"relu\"),\n",
    "    keras.layers.Dense(100, activation=\"relu\"),\n",
    "    keras.layers.Dense(10, activation=\"softmax\")\n",
    "])\n",
    "\n",
    "optimizer = keras.optimizers.SGD(learning_rate=2e-1)\n",
    "model.compile(loss=\"sparse_categorical_crossentropy\",\n",
    "              optimizer=optimizer,\n",
    "              metrics=[\"accuracy\"])\n",
    "model.summary()"
   ]
  },
  {
   "cell_type": "code",
   "execution_count": 110,
   "metadata": {},
   "outputs": [
    {
     "data": {
      "text/plain": [
       "'.\\\\my_mnist_logs\\\\run_001'"
      ]
     },
     "execution_count": 110,
     "metadata": {},
     "output_type": "execute_result"
    }
   ],
   "source": [
    "run_index = 1 # increment this at every run\n",
    "run_logdir = os.path.join(os.curdir, \"my_mnist_logs\", \"run_{:03d}\".format(run_index))\n",
    "run_logdir"
   ]
  },
  {
   "cell_type": "code",
   "execution_count": 111,
   "metadata": {},
   "outputs": [
    {
     "name": "stdout",
     "output_type": "stream",
     "text": [
      "Epoch 1/20\n",
      "1719/1719 [==============================] - 3s 2ms/step - loss: 0.0081 - accuracy: 0.9976 - val_loss: 0.0787 - val_accuracy: 0.9830\n",
      "Epoch 2/20\n",
      "1719/1719 [==============================] - 3s 2ms/step - loss: 0.0050 - accuracy: 0.9988 - val_loss: 0.0792 - val_accuracy: 0.9834\n",
      "Epoch 3/20\n",
      "1719/1719 [==============================] - 3s 2ms/step - loss: 0.0043 - accuracy: 0.9987 - val_loss: 0.0819 - val_accuracy: 0.9850\n",
      "Epoch 4/20\n",
      "1719/1719 [==============================] - 3s 2ms/step - loss: 0.0021 - accuracy: 0.9996 - val_loss: 0.0795 - val_accuracy: 0.9846\n",
      "Epoch 5/20\n",
      "1719/1719 [==============================] - 3s 2ms/step - loss: 0.0011 - accuracy: 0.9999 - val_loss: 0.0805 - val_accuracy: 0.9862\n",
      "Epoch 6/20\n",
      "1719/1719 [==============================] - 3s 2ms/step - loss: 3.5533e-04 - accuracy: 1.0000 - val_loss: 0.0797 - val_accuracy: 0.9868\n",
      "Epoch 7/20\n",
      "1719/1719 [==============================] - 3s 2ms/step - loss: 2.4801e-04 - accuracy: 1.0000 - val_loss: 0.0807 - val_accuracy: 0.9864\n",
      "Epoch 8/20\n",
      "1719/1719 [==============================] - 3s 2ms/step - loss: 2.0372e-04 - accuracy: 1.0000 - val_loss: 0.0823 - val_accuracy: 0.9860\n",
      "Epoch 9/20\n",
      "1719/1719 [==============================] - 3s 2ms/step - loss: 1.7953e-04 - accuracy: 1.0000 - val_loss: 0.0830 - val_accuracy: 0.9864\n",
      "Epoch 10/20\n",
      "1719/1719 [==============================] - 3s 2ms/step - loss: 1.6049e-04 - accuracy: 1.0000 - val_loss: 0.0829 - val_accuracy: 0.9866\n",
      "Epoch 11/20\n",
      "1719/1719 [==============================] - 3s 2ms/step - loss: 1.4528e-04 - accuracy: 1.0000 - val_loss: 0.0838 - val_accuracy: 0.9868\n",
      "Epoch 12/20\n",
      "1719/1719 [==============================] - 3s 2ms/step - loss: 1.3295e-04 - accuracy: 1.0000 - val_loss: 0.0840 - val_accuracy: 0.9866\n",
      "Epoch 13/20\n",
      "1719/1719 [==============================] - 3s 2ms/step - loss: 1.2321e-04 - accuracy: 1.0000 - val_loss: 0.0850 - val_accuracy: 0.9864\n",
      "Epoch 14/20\n",
      "1719/1719 [==============================] - 3s 2ms/step - loss: 1.1549e-04 - accuracy: 1.0000 - val_loss: 0.0858 - val_accuracy: 0.9864\n",
      "Epoch 15/20\n",
      "1719/1719 [==============================] - 3s 2ms/step - loss: 1.0837e-04 - accuracy: 1.0000 - val_loss: 0.0859 - val_accuracy: 0.9864\n",
      "Epoch 16/20\n",
      "1719/1719 [==============================] - 3s 2ms/step - loss: 1.0213e-04 - accuracy: 1.0000 - val_loss: 0.0859 - val_accuracy: 0.9864\n",
      "Epoch 17/20\n",
      "1719/1719 [==============================] - 3s 2ms/step - loss: 9.6421e-05 - accuracy: 1.0000 - val_loss: 0.0864 - val_accuracy: 0.9864\n",
      "Epoch 18/20\n",
      "1719/1719 [==============================] - 3s 2ms/step - loss: 9.1212e-05 - accuracy: 1.0000 - val_loss: 0.0870 - val_accuracy: 0.9866\n",
      "Epoch 19/20\n",
      "1719/1719 [==============================] - 3s 2ms/step - loss: 8.7276e-05 - accuracy: 1.0000 - val_loss: 0.0874 - val_accuracy: 0.9866\n",
      "Epoch 20/20\n",
      "1719/1719 [==============================] - 3s 2ms/step - loss: 8.2830e-05 - accuracy: 1.0000 - val_loss: 0.0879 - val_accuracy: 0.9866\n"
     ]
    }
   ],
   "source": [
    "early_stopping_cb = keras.callbacks.EarlyStopping(patience=20)\n",
    "checkpoint_cb = keras.callbacks.ModelCheckpoint(\"my_mnist_model.h5\", save_best_only=True)\n",
    "tensorboard_cb = keras.callbacks.TensorBoard(run_logdir)\n",
    "\n",
    "history = model.fit(\n",
    "    X_train, y_train, \n",
    "    epochs=20,\n",
    "    validation_data=(X_valid, y_valid),\n",
    "    callbacks=[early_stopping_cb, checkpoint_cb, tensorboard_cb]\n",
    ")"
   ]
  },
  {
   "cell_type": "code",
   "execution_count": 112,
   "metadata": {},
   "outputs": [
    {
     "name": "stdout",
     "output_type": "stream",
     "text": [
      "313/313 [==============================] - 0s 1ms/step - loss: 0.0686 - accuracy: 0.9825\n"
     ]
    },
    {
     "data": {
      "text/plain": [
       "[0.06863506138324738, 0.9825000166893005]"
      ]
     },
     "execution_count": 112,
     "metadata": {},
     "output_type": "execute_result"
    }
   ],
   "source": [
    "model = keras.models.load_model(\"my_mnist_model.h5\")\n",
    "model.evaluate(X_test, y_test)"
   ]
  },
  {
   "cell_type": "markdown",
   "metadata": {},
   "source": [
    "We got over 98% accuracy. Finally, let's look at the learning curves using TensorBoard:"
   ]
  },
  {
   "cell_type": "code",
   "execution_count": 113,
   "metadata": {},
   "outputs": [
    {
     "data": {
      "text/html": [
       "\n",
       "      <iframe id=\"tensorboard-frame-b5899b87c4249\" width=\"100%\" height=\"800\" frameborder=\"0\">\n",
       "      </iframe>\n",
       "      <script>\n",
       "        (function() {\n",
       "          const frame = document.getElementById(\"tensorboard-frame-b5899b87c4249\");\n",
       "          const url = new URL(\"/\", window.location);\n",
       "          const port = 6006;\n",
       "          if (port) {\n",
       "            url.port = port;\n",
       "          }\n",
       "          frame.src = url;\n",
       "        })();\n",
       "      </script>\n",
       "    "
      ],
      "text/plain": [
       "<IPython.core.display.HTML object>"
      ]
     },
     "metadata": {},
     "output_type": "display_data"
    }
   ],
   "source": [
    "%tensorboard --logdir=./my_mnist_logs --port=6006"
   ]
  }
 ],
 "metadata": {
  "kernelspec": {
   "display_name": "Python (PyTorch-CUDA)",
   "language": "python",
   "name": "py39cuda118"
  },
  "language_info": {
   "codemirror_mode": {
    "name": "ipython",
    "version": 3
   },
   "file_extension": ".py",
   "mimetype": "text/x-python",
   "name": "python",
   "nbconvert_exporter": "python",
   "pygments_lexer": "ipython3",
   "version": "3.9.21"
  },
  "nav_menu": {
   "height": "264px",
   "width": "369px"
  },
  "toc": {
   "navigate_menu": true,
   "number_sections": true,
   "sideBar": true,
   "threshold": 6,
   "toc_cell": false,
   "toc_section_display": "block",
   "toc_window_display": false
  }
 },
 "nbformat": 4,
 "nbformat_minor": 4
}
